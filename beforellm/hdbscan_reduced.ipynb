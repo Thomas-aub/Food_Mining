version https://git-lfs.github.com/spec/v1
oid sha256:842f9f92123cacf28617c9c2f7efcb766c7cd3339b8013c38172cbc0306a93b6
size 707610
