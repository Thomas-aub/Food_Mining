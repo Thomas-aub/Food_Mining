version https://git-lfs.github.com/spec/v1
oid sha256:5d2d208b8c876ae313b3a25fc1d7b83fd73bf24399b64fbcc961209280d62a5b
size 565142
