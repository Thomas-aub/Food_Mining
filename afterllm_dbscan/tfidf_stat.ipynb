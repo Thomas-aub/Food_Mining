{
 "cells": [
  {
   "cell_type": "code",
   "execution_count": 4,
   "id": "1cf846a2",
   "metadata": {},
   "outputs": [],
   "source": [
    "import pandas as pd\n",
    "import numpy as np\n",
    "import ast\n",
    "from collections import Counter\n"
   ]
  },
  {
   "cell_type": "code",
   "execution_count": 1,
   "id": "835e2a6b",
   "metadata": {},
   "outputs": [],
   "source": [
    "CLUSTER_RESULTS_FILE = 'ingredient_clusters.csv'\n",
    "RECIPES_FILE = '../data/clean_data/recipes_cleaned.csv'\n",
    "OUTPUT_CSV = 'cluster_characterization_automated.csv'\n",
    "OUTPUT_LATEX = 'cluster_table.tex'"
   ]
  },
  {
   "cell_type": "code",
   "execution_count": 2,
   "id": "822488ee",
   "metadata": {},
   "outputs": [
    {
     "name": "stdout",
     "output_type": "stream",
     "text": [
      "  Cluster file columns: ['ingredient', 'cluster']\n",
      "  First few rows:\n",
      "             ingredient  cluster\n",
      "0                   NaN       -1\n",
      "1      a original sauce       -1\n",
      "2         abalone steak       -1\n",
      "3              absinthe        0\n",
      "4  absolut kurant vodka        0\n"
     ]
    }
   ],
   "source": [
    "import pandas as pd\n",
    "clusters_raw = pd.read_csv(CLUSTER_RESULTS_FILE)\n",
    "print(f\"  Cluster file columns: {clusters_raw.columns.tolist()}\")\n",
    "print(f\"  First few rows:\\n{clusters_raw.head()}\")\n"
   ]
  },
  {
   "cell_type": "code",
   "execution_count": 6,
   "id": "2b8e0237",
   "metadata": {},
   "outputs": [
    {
     "name": "stdout",
     "output_type": "stream",
     "text": [
      " Loaded 31 clusters\n"
     ]
    }
   ],
   "source": [
    "# Group ingredients by cluster\n",
    "if 'cluster' in clusters_raw.columns and 'ingredient' in clusters_raw.columns:\n",
    "    clusters_df = clusters_raw.groupby('cluster')['ingredient'].apply(list).reset_index()\n",
    "    clusters_df.columns = ['cluster_id', 'ingredient_list']\n",
    "else:\n",
    "    raise ValueError(\"Expected columns 'cluster' and 'ingredient' in cluster results file\")\n",
    "\n",
    "print(f\" Loaded {len(clusters_df)} clusters\")"
   ]
  },
  {
   "cell_type": "code",
   "execution_count": 7,
   "id": "a0ca5977",
   "metadata": {},
   "outputs": [
    {
     "name": "stdout",
     "output_type": "stream",
     "text": [
      "\n",
      " Loading recipe data...\n",
      "Loaded 222705 recipes\n"
     ]
    }
   ],
   "source": [
    "import ast\n",
    "# Load original recipes\n",
    "print(\"\\n Loading recipe data...\")\n",
    "df_recipes = pd.read_csv(RECIPES_FILE)\n",
    "# Parse ingredients column (adjust column name if different)\n",
    "ingredient_col = 'ingredients'  # or 'ingredients_y' based on your file\n",
    "if ingredient_col not in df_recipes.columns:\n",
    "    # Try alternative column names\n",
    "    for col in ['ingredients_y', 'ingredients_x', 'ingredient']:\n",
    "        if col in df_recipes.columns:\n",
    "            ingredient_col = col\n",
    "            break\n",
    "\n",
    "if isinstance(df_recipes[ingredient_col].iloc[0], str):\n",
    "    df_recipes[ingredient_col] = df_recipes[ingredient_col].apply(ast.literal_eval)\n",
    "\n",
    "print(f\"Loaded {len(df_recipes)} recipes\")"
   ]
  },
  {
   "cell_type": "code",
   "execution_count": 8,
   "id": "84edd0d5",
   "metadata": {},
   "outputs": [
    {
     "name": "stdout",
     "output_type": "stream",
     "text": [
      "\n",
      " Computing ingredient frequencies...\n",
      "  Processed 2080428 total ingredient occurrences\n",
      "  Found 14621 unique ingredients\n"
     ]
    }
   ],
   "source": [
    "from collections import Counter\n",
    "\n",
    "print(\"\\n Computing ingredient frequencies...\")\n",
    "all_ingredients = []\n",
    "for ing_list in df_recipes[ingredient_col]:\n",
    "    all_ingredients.extend(ing_list)\n",
    "\n",
    "ingredient_freq = Counter(all_ingredients)\n",
    "print(f\"  Processed {len(all_ingredients)} total ingredient occurrences\")\n",
    "print(f\"  Found {len(ingredient_freq)} unique ingredients\")"
   ]
  },
  {
   "cell_type": "code",
   "execution_count": 9,
   "id": "e2651f7e",
   "metadata": {},
   "outputs": [
    {
     "name": "stdout",
     "output_type": "stream",
     "text": [
      "\n",
      "Computing TF-IDF for distinctive terms...\n",
      " TF-IDF computed (24276 terms)\n"
     ]
    }
   ],
   "source": [
    "from sklearn.feature_extraction.text import TfidfVectorizer\n",
    "print(\"\\nComputing TF-IDF for distinctive terms...\")\n",
    "\n",
    "# Treat each cluster as a document, filter out non-string items\n",
    "cluster_docs = [' '.join([ing for ing in ing_list if isinstance(ing, str)]) for ing_list in clusters_df['ingredient_list']]\n",
    "\n",
    "# Compute TF-IDF\n",
    "vectorizer = TfidfVectorizer(\n",
    "    max_features=None,\n",
    "    min_df=1,\n",
    "    ngram_range=(1, 2),  # Allow bigrams\n",
    "    token_pattern=r'[a-zA-Z]+'\n",
    ")\n",
    "\n",
    "tfidf_matrix = vectorizer.fit_transform(cluster_docs)\n",
    "feature_names = vectorizer.get_feature_names_out()\n",
    "\n",
    "print(f\" TF-IDF computed ({len(feature_names)} terms)\")"
   ]
  },
  {
   "cell_type": "code",
   "execution_count": 10,
   "id": "c45c6c5b",
   "metadata": {},
   "outputs": [
    {
     "name": "stdout",
     "output_type": "stream",
     "text": [
      "\n",
      " Characterizing clusters...\n",
      "  Characterized 31 clusters\n"
     ]
    }
   ],
   "source": [
    "import numpy as np\n",
    "\n",
    "print(\"\\n Characterizing clusters...\")\n",
    "\n",
    "results = []\n",
    "\n",
    "for i, row in clusters_df.iterrows():\n",
    "    cluster_id = row['cluster_id']\n",
    "    ingredients = row['ingredient_list']\n",
    "    \n",
    "    # basic stats\n",
    "    size = len(ingredients)\n",
    "\n",
    "    # frequency analysis\n",
    "    freqs = [ingredient_freq.get(ing, 0) for ing in ingredients]\n",
    "    \n",
    "    if len(freqs) == 0:\n",
    "        continue  # Skip empty clusters\n",
    "        \n",
    "    avg_freq = np.mean(freqs)\n",
    "    min_freq = np.min(freqs)\n",
    "    max_freq = np.max(freqs)\n",
    "    # Top 5 ingredients by frequency\n",
    "    ing_with_freq = [(ing, ingredient_freq.get(ing, 0)) for ing in ingredients]\n",
    "    ing_with_freq.sort(key=lambda x: x[1], reverse=True)\n",
    "    top_5_by_freq = ', '.join([ing for ing, _ in ing_with_freq[:5]])\n",
    "    \n",
    "    # === TF-IDF DISTINCTIVE TERMS ===\n",
    "    tfidf_scores = tfidf_matrix[i].toarray().flatten()\n",
    "    top_tfidf_indices = tfidf_scores.argsort()[-5:][::-1]\n",
    "    distinctive_terms = [\n",
    "        feature_names[idx] \n",
    "        for idx in top_tfidf_indices \n",
    "        if tfidf_scores[idx] > 0\n",
    "    ]\n",
    "    distinctive_str = ', '.join(distinctive_terms[:5])\n",
    "    \n",
    "    results.append({\n",
    "        'Cluster': cluster_id,\n",
    "        'Size': size,\n",
    "        'Distinctive_Terms': distinctive_str,\n",
    "        'Top_5_Frequent': top_5_by_freq,\n",
    "        'Avg_Freq': int(avg_freq),\n",
    "        'Min_Freq': min_freq,\n",
    "        'Max_Freq': max_freq\n",
    "    })\n",
    "\n",
    "results_df = pd.DataFrame(results)\n",
    "# Sort by cluster size (descending)\n",
    "results_df = results_df.sort_values('Size', ascending=False).reset_index(drop=True)\n",
    "\n",
    "print(f\"  Characterized {len(results_df)} clusters\")"
   ]
  },
  {
   "cell_type": "code",
   "execution_count": 11,
   "id": "de51d162",
   "metadata": {},
   "outputs": [
    {
     "name": "stdout",
     "output_type": "stream",
     "text": [
      "Requirement already satisfied: Jinja2 in /Users/duybeobn1/miniconda/lib/python3.13/site-packages (3.1.6)\n",
      "Requirement already satisfied: MarkupSafe>=2.0 in /Users/duybeobn1/miniconda/lib/python3.13/site-packages (from Jinja2) (3.0.3)\n",
      "Note: you may need to restart the kernel to use updated packages.\n",
      "\n",
      "================================================================================\n",
      "CLUSTER CHARACTERIZATION RESULTS\n",
      "================================================================================\n",
      "\n",
      "Top 20 clusters by size:\n",
      "\n",
      " Cluster  Size                                             Distinctive_Terms                                                                                                                                                                               Top_5_Frequent Avg_Freq  Min_Freq  Max_Freq\n",
      "      -1  8179                             cheese, chicken, sauce, beef, mix                                                                                                                                                        salt, onion, olive oil, flour, pepper      132         0     86964\n",
      "       0   820                    liqueur, chocolate, pudding, yogurt, vodka                                                                                                                                lemon juice, cream cheese, orange juice, cilantro, lime juice      156         0     13933\n",
      "       2   244                            paste, chili, noodles, dal, powder                                                                                                                                    soy sauce, sesame oil, sesame seeds, turmeric, peanut oil      216         0      8961\n",
      "       8    62                            syrup, tea, drink mix, cherry, ice                                                                                                                                               sugar, water, frozen lemonade, pectin, cachaca    1,341         0     47723\n",
      "       5    60                     pizza, sauce, pasta, italian, pizza crust                                                                                                               mozzarella cheese, ricotta cheese, cottage cheese, provolone cheese, pepperoni      256         0      5000\n",
      "       6    42                          flour, bran, oats, wheat, applesauce                                                                                                                                    whole wheat flour, rolled oats, applesauce, oatmeal, oats      317         0      3075\n",
      "      14    39                     cake mix, cake, mix, brownie mix, brownie                                                                                                                   yellow cake mix, chocolate cake mix, brownie mix, cake mix, lemon cake mix       59         0       897\n",
      "       3    36                          pickle, tuna, relish, dill, in water                                                                                                                              mayonnaise, tuna, lettuce leaf, imitation crabmeat, dill pickle      311         0      8367\n",
      "      13    35                       syrup, chocolate, ice cream, ice, cream                                                                                                                  milk, powdered chocolate milk mix, rose syrup, yogurt starter, banana syrup      740         0     25839\n",
      "      16    31                         yeast, dry, bread, flour, bread flour                                                                                                                                     warm water, bread flour, yeast, dry yeast, powdered milk      234         0      2057\n",
      "      18    29        chips, chocolate, chocolate chips, mm, plain chocolate                                                                                                        chocolate chips, butterscotch chips, macadamia nuts, mini marshmallows, rice krispies      177         0      2238\n",
      "      15    25              ground, instant tea, instant, pumpkin, drink mix                                                                                                              ground cinnamon, ground nutmeg, ground cloves, ground allspice, ground cardamom      608         0      6954\n",
      "       9    22                    honey, tea, dried, butter, brewed hibiscus                                                                                                          honey, dried peppermint, brewed hibiscus tea, geranium leaf, powdered peanut butter      438         1      9620\n",
      "      12    20                           mix, cake mix, coconut, cake, green                                                                                                                oil, new kitty litter box, clear creme de menthe, licorice whips, onion skins      498         0      9951\n",
      "       7    19             pasta, penne, pasta dry, pasta penne, penne pasta                                                                                                                                    spaghetti, pasta, penne pasta, linguine, angel hair pasta      327        64      1083\n",
      "       1    19 snacks, cereal, ann cherries, guavaberry gummy, raisins royal                                                                                                                                      raisins, fruit snacks, grappa, caramel corn, guavaberry      234         0      4414\n",
      "      19    18             caramel, milk chocolate, chocolate, candy, butter                                                                                                 butter, mars bars, peanut butter captain crunch cereal, caramel squares, lucky charms cereal    3,281         0     59021\n",
      "      17    17                    glutenfree, chex, corn, cereal, oat cereal                                                                                                                             rice chex, corn chex, small pretzels, crispix cereal, wheat chex       25         0       105\n",
      "      21    15                      fat free, free, fat, rum pear, diet root                                                                                   vanilla extract, diet root beer, reduced sugar devils food cake mix, melba sauce, earth balance shortening      722         0     10827\n",
      "       4    13                    mozzarella, parmesan, potatoes, and, cream skinless chicken breast, frozen mozzarella garlic bread, simply potatoes steakhouse seasoned diced potatoes, alfredo noodles mix, hidden valley original ranch cheddar and parmesan dressing        4         0        44\n",
      "\n",
      " Results saved to: cluster_characterization_automated.csv\n",
      " LaTeX table saved to: cluster_table.tex\n"
     ]
    }
   ],
   "source": [
    "%pip install Jinja2\n",
    "print(\"\\n\" + \"=\"*80)\n",
    "print(\"CLUSTER CHARACTERIZATION RESULTS\")\n",
    "print(\"=\"*80)\n",
    "print(\"\\nTop 20 clusters by size:\\n\")\n",
    "\n",
    "# Display with better formatting\n",
    "display_df = results_df.head(20).copy()\n",
    "display_df['Avg_Freq'] = display_df['Avg_Freq'].apply(lambda x: f\"{x:,}\")\n",
    "print(display_df.to_string(index=False))\n",
    "\n",
    "# Save to CSV\n",
    "results_df.to_csv(OUTPUT_CSV, index=False)\n",
    "print(f\"\\n Results saved to: {OUTPUT_CSV}\")\n",
    "\n",
    "# Save to LaTeX (for report)\n",
    "# Create a cleaner version for LaTeX\n",
    "latex_df = results_df.head(20).copy()\n",
    "latex_df.columns = ['ID', 'Size', 'Distinctive Terms', 'Most Frequent', 'Avg Freq', 'Min', 'Max']\n",
    "latex_df.to_latex(OUTPUT_LATEX, index=False, escape=False, column_format='lllllll')\n",
    "print(f\" LaTeX table saved to: {OUTPUT_LATEX}\")"
   ]
  },
  {
   "cell_type": "code",
   "execution_count": 12,
   "id": "c41aea88",
   "metadata": {},
   "outputs": [
    {
     "name": "stdout",
     "output_type": "stream",
     "text": [
      "\n",
      "Total clusters analyzed: 31\n",
      "\n",
      "Cluster size distribution:\n",
      "  Min: 9\n",
      "  25th percentile: 12\n",
      "  Median: 19\n",
      "  75th percentile: 36\n",
      "  Mean: 318.2\n",
      "  Max: 8179\n",
      "\n",
      "Average frequency distribution:\n",
      "  Min: 0\n",
      "  Median: 260\n",
      "  Mean: 439.6\n",
      "  Max: 3,281\n"
     ]
    }
   ],
   "source": [
    "print(f\"\\nTotal clusters analyzed: {len(results_df)}\")\n",
    "\n",
    "print(f\"\\nCluster size distribution:\")\n",
    "print(f\"  Min: {results_df['Size'].min()}\")\n",
    "print(f\"  25th percentile: {results_df['Size'].quantile(0.25):.0f}\")\n",
    "print(f\"  Median: {results_df['Size'].median():.0f}\")\n",
    "print(f\"  75th percentile: {results_df['Size'].quantile(0.75):.0f}\")\n",
    "print(f\"  Mean: {results_df['Size'].mean():.1f}\")\n",
    "print(f\"  Max: {results_df['Size'].max()}\")\n",
    "\n",
    "print(f\"\\nAverage frequency distribution:\")\n",
    "print(f\"  Min: {results_df['Avg_Freq'].min():,}\")\n",
    "print(f\"  Median: {results_df['Avg_Freq'].median():,.0f}\")\n",
    "print(f\"  Mean: {results_df['Avg_Freq'].mean():,.1f}\")\n",
    "print(f\"  Max: {results_df['Avg_Freq'].max():,}\")\n"
   ]
  },
  {
   "cell_type": "code",
   "execution_count": 13,
   "id": "a3b16cb3",
   "metadata": {},
   "outputs": [
    {
     "name": "stdout",
     "output_type": "stream",
     "text": [
      "\n",
      " Top 5 LARGEST clusters:\n",
      " Cluster  Size                          Distinctive_Terms                                                                 Top_5_Frequent\n",
      "      -1  8179          cheese, chicken, sauce, beef, mix                                          salt, onion, olive oil, flour, pepper\n",
      "       0   820 liqueur, chocolate, pudding, yogurt, vodka                  lemon juice, cream cheese, orange juice, cilantro, lime juice\n",
      "       2   244         paste, chili, noodles, dal, powder                      soy sauce, sesame oil, sesame seeds, turmeric, peanut oil\n",
      "       8    62         syrup, tea, drink mix, cherry, ice                                 sugar, water, frozen lemonade, pectin, cachaca\n",
      "       5    60  pizza, sauce, pasta, italian, pizza crust mozzarella cheese, ricotta cheese, cottage cheese, provolone cheese, pepperoni\n",
      "\n",
      " Top 5 clusters with MOST FREQUENT ingredients:\n",
      " Cluster  Size  Avg_Freq                                                                                             Top_5_Frequent\n",
      "      19    18      3281               butter, mars bars, peanut butter captain crunch cereal, caramel squares, lucky charms cereal\n",
      "       8    62      1341                                                             sugar, water, frozen lemonade, pectin, cachaca\n",
      "      13    35       740                                milk, powdered chocolate milk mix, rose syrup, yogurt starter, banana syrup\n",
      "      21    15       722 vanilla extract, diet root beer, reduced sugar devils food cake mix, melba sauce, earth balance shortening\n",
      "      10    10       706                                 bacon, bacon drippings, toothpick, coating mix, horseradish cheddar cheese\n",
      "\n",
      " Top 5 SMALLEST clusters (niche ingredients):\n",
      " Cluster  Size  Avg_Freq                                                                                                  Top_5_Frequent\n",
      "      29     9         1                black licorice strings, candy oil, fortune cookies, halloween oreo cookies, nuttter butter bites\n",
      "      20    10         0 chunky turkey pot pie soup, dried kelp granules, el torito adobo al pastor sauce, granary bread, lamb baby food\n",
      "      10    10       706                                      bacon, bacon drippings, toothpick, coating mix, horseradish cheddar cheese\n",
      "      24    10       579               walnuts, blackberry syrup, ground cranberries, ginger wafer cookie, instant cinnamon roll oatmeal\n",
      "      26    10       559                powdered sugar, black decorating gel, sour apple liqueur, red decorating icing, butterfinger bar\n",
      "\n",
      " Top 5 clusters with RAREST ingredients:\n",
      " Cluster  Size  Avg_Freq                                                                                                                                                                               Top_5_Frequent\n",
      "      20    10         0                                                                              chunky turkey pot pie soup, dried kelp granules, el torito adobo al pastor sauce, granary bread, lamb baby food\n",
      "      29     9         1                                                                                             black licorice strings, candy oil, fortune cookies, halloween oreo cookies, nuttter butter bites\n",
      "       4    13         4 skinless chicken breast, frozen mozzarella garlic bread, simply potatoes steakhouse seasoned diced potatoes, alfredo noodles mix, hidden valley original ranch cheddar and parmesan dressing\n",
      "      17    17        25                                                                                                                             rice chex, corn chex, small pretzels, crispix cereal, wheat chex\n",
      "      14    39        59                                                                                                                   yellow cake mix, chocolate cake mix, brownie mix, cake mix, lemon cake mix\n"
     ]
    }
   ],
   "source": [
    "\n",
    "# Largest clusters\n",
    "print(\"\\n Top 5 LARGEST clusters:\")\n",
    "largest = results_df.nlargest(5, 'Size')[['Cluster', 'Size', 'Distinctive_Terms', 'Top_5_Frequent']]\n",
    "print(largest.to_string(index=False))\n",
    "\n",
    "# Most frequent clusters (common ingredients)\n",
    "print(\"\\n Top 5 clusters with MOST FREQUENT ingredients:\")\n",
    "most_frequent = results_df.nlargest(5, 'Avg_Freq')[['Cluster', 'Size', 'Avg_Freq', 'Top_5_Frequent']]\n",
    "print(most_frequent.to_string(index=False))\n",
    "\n",
    "# Smallest clusters (niche/rare)\n",
    "print(\"\\n Top 5 SMALLEST clusters (niche ingredients):\")\n",
    "smallest = results_df.nsmallest(5, 'Size')[['Cluster', 'Size', 'Avg_Freq', 'Top_5_Frequent']]\n",
    "print(smallest.to_string(index=False))\n",
    "\n",
    "# Low-frequency clusters (rare ingredients)\n",
    "print(\"\\n Top 5 clusters with RAREST ingredients:\")\n",
    "rarest = results_df.nsmallest(5, 'Avg_Freq')[['Cluster', 'Size', 'Avg_Freq', 'Top_5_Frequent']]\n",
    "print(rarest.to_string(index=False))"
   ]
  },
  {
   "cell_type": "code",
   "execution_count": 14,
   "id": "b02fc150",
   "metadata": {},
   "outputs": [
    {
     "name": "stdout",
     "output_type": "stream",
     "text": [
      "\n",
      " Most COHESIVE clusters (low frequency variance):\n",
      " Cluster  Size  Avg_Freq   Freq_Std                                             Distinctive_Terms\n",
      "      20    10         0   0.300000 turkey, muskellunge, patty muskellunge, original chik, torito\n",
      "      29     9         1   1.099944                cookies, butter, cereal, tic tac, fruit rollup\n",
      "       4    13         4  11.521526                    mozzarella, parmesan, potatoes, and, cream\n",
      "      17    17        25  32.385438                    glutenfree, chex, corn, cereal, oat cereal\n",
      "      27    12       110 127.410181                        ham, ham hock, split peas, split, hock\n"
     ]
    },
    {
     "name": "stderr",
     "output_type": "stream",
     "text": [
      "/var/folders/p3/6f00l5q90dz_dlmyjws1fv1h0000gn/T/ipykernel_72373/1020590673.py:8: FutureWarning: Setting an item of incompatible dtype is deprecated and will raise an error in a future version of pandas. Value '1400.8931745832974' has dtype incompatible with int64, please explicitly cast to a compatible dtype first.\n",
      "  results_df.loc[results_df['Cluster'] == row['cluster_id'], 'Freq_Std'] = freq_std\n"
     ]
    }
   ],
   "source": [
    "# Compute intra-cluster frequency variance (cohesion indicator)\n",
    "results_df['Freq_Std'] = 0\n",
    "for i, row in clusters_df.iterrows():\n",
    "    ingredients = row['ingredient_list']\n",
    "    freqs = [ingredient_freq.get(ing, 0) for ing in ingredients]\n",
    "    if len(freqs) > 1:\n",
    "        freq_std = np.std(freqs)\n",
    "        results_df.loc[results_df['Cluster'] == row['cluster_id'], 'Freq_Std'] = freq_std\n",
    "\n",
    "# Clusters with low frequency variance = more cohesive\n",
    "print(\"\\n Most COHESIVE clusters (low frequency variance):\")\n",
    "cohesive = results_df.nsmallest(5, 'Freq_Std')[['Cluster', 'Size', 'Avg_Freq', 'Freq_Std', 'Distinctive_Terms']]\n",
    "print(cohesive.to_string(index=False))\n"
   ]
  }
 ],
 "metadata": {
  "kernelspec": {
   "display_name": "base",
   "language": "python",
   "name": "python3"
  },
  "language_info": {
   "codemirror_mode": {
    "name": "ipython",
    "version": 3
   },
   "file_extension": ".py",
   "mimetype": "text/x-python",
   "name": "python",
   "nbconvert_exporter": "python",
   "pygments_lexer": "ipython3",
   "version": "3.13.5"
  }
 },
 "nbformat": 4,
 "nbformat_minor": 5
}
