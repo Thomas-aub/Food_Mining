{
 "cells": [
  {
   "cell_type": "code",
   "execution_count": null,
   "id": "1cf846a2",
   "metadata": {},
   "outputs": [],
   "source": [
    "import pandas as pd\n",
    "import numpy as np\n",
    "import ast\n",
    "from collections import Counter\n"
   ]
  },
  {
   "cell_type": "code",
   "execution_count": 1,
   "id": "835e2a6b",
   "metadata": {},
   "outputs": [],
   "source": [
    "CLUSTER_RESULTS_FILE = 'ingredient_clusters.csv'\n",
    "RECIPES_FILE = '../data/clean_data/recipes_cleaned.csv'\n",
    "OUTPUT_CSV = 'cluster_characterization_automated.csv'\n",
    "OUTPUT_LATEX = 'cluster_table.tex'"
   ]
  },
  {
   "cell_type": "code",
   "execution_count": 4,
   "id": "822488ee",
   "metadata": {},
   "outputs": [
    {
     "name": "stdout",
     "output_type": "stream",
     "text": [
      "  Cluster file columns: ['ingredient', 'cluster']\n",
      "  First few rows:\n",
      "             ingredient  cluster\n",
      "0                   NaN       -1\n",
      "1      a original sauce       -1\n",
      "2         abalone steak       -1\n",
      "3              absinthe       -1\n",
      "4  absolut kurant vodka        1\n"
     ]
    }
   ],
   "source": [
    "import pandas as pd\n",
    "clusters_raw = pd.read_csv(CLUSTER_RESULTS_FILE)\n",
    "print(f\"  Cluster file columns: {clusters_raw.columns.tolist()}\")\n",
    "print(f\"  First few rows:\\n{clusters_raw.head()}\")\n"
   ]
  },
  {
   "cell_type": "code",
   "execution_count": 5,
   "id": "2b8e0237",
   "metadata": {},
   "outputs": [
    {
     "name": "stdout",
     "output_type": "stream",
     "text": [
      " Loaded 33 clusters\n"
     ]
    }
   ],
   "source": [
    "# Group ingredients by cluster\n",
    "if 'cluster' in clusters_raw.columns and 'ingredient' in clusters_raw.columns:\n",
    "    clusters_df = clusters_raw.groupby('cluster')['ingredient'].apply(list).reset_index()\n",
    "    clusters_df.columns = ['cluster_id', 'ingredient_list']\n",
    "else:\n",
    "    raise ValueError(\"Expected columns 'cluster' and 'ingredient' in cluster results file\")\n",
    "\n",
    "print(f\" Loaded {len(clusters_df)} clusters\")"
   ]
  },
  {
   "cell_type": "code",
   "execution_count": null,
   "id": "a0ca5977",
   "metadata": {},
   "outputs": [
    {
     "name": "stdout",
     "output_type": "stream",
     "text": [
      "\n",
      "[2/5] Loading recipe data...\n",
      "Loaded 222705 recipes\n"
     ]
    }
   ],
   "source": [
    "import ast\n",
    "# Load original recipes\n",
    "print(\"\\n Loading recipe data...\")\n",
    "df_recipes = pd.read_csv(RECIPES_FILE)\n",
    "# Parse ingredients column (adjust column name if different)\n",
    "ingredient_col = 'ingredients'  # or 'ingredients_y' based on your file\n",
    "if ingredient_col not in df_recipes.columns:\n",
    "    # Try alternative column names\n",
    "    for col in ['ingredients_y', 'ingredients_x', 'ingredient']:\n",
    "        if col in df_recipes.columns:\n",
    "            ingredient_col = col\n",
    "            break\n",
    "\n",
    "if isinstance(df_recipes[ingredient_col].iloc[0], str):\n",
    "    df_recipes[ingredient_col] = df_recipes[ingredient_col].apply(ast.literal_eval)\n",
    "\n",
    "print(f\"Loaded {len(df_recipes)} recipes\")"
   ]
  },
  {
   "cell_type": "code",
   "execution_count": 10,
   "id": "84edd0d5",
   "metadata": {},
   "outputs": [
    {
     "name": "stdout",
     "output_type": "stream",
     "text": [
      "\n",
      " Computing ingredient frequencies...\n",
      "  Processed 2080428 total ingredient occurrences\n",
      "  Found 14621 unique ingredients\n"
     ]
    }
   ],
   "source": [
    "from collections import Counter\n",
    "\n",
    "print(\"\\n Computing ingredient frequencies...\")\n",
    "all_ingredients = []\n",
    "for ing_list in df_recipes[ingredient_col]:\n",
    "    all_ingredients.extend(ing_list)\n",
    "\n",
    "ingredient_freq = Counter(all_ingredients)\n",
    "print(f\"  Processed {len(all_ingredients)} total ingredient occurrences\")\n",
    "print(f\"  Found {len(ingredient_freq)} unique ingredients\")"
   ]
  },
  {
   "cell_type": "code",
   "execution_count": 13,
   "id": "e2651f7e",
   "metadata": {},
   "outputs": [
    {
     "name": "stdout",
     "output_type": "stream",
     "text": [
      "\n",
      "Computing TF-IDF for distinctive terms...\n",
      " TF-IDF computed (24257 terms)\n"
     ]
    }
   ],
   "source": [
    "from sklearn.feature_extraction.text import TfidfVectorizer\n",
    "print(\"\\nComputing TF-IDF for distinctive terms...\")\n",
    "\n",
    "# Treat each cluster as a document, filter out non-string items\n",
    "cluster_docs = [' '.join([ing for ing in ing_list if isinstance(ing, str)]) for ing_list in clusters_df['ingredient_list']]\n",
    "\n",
    "# Compute TF-IDF\n",
    "vectorizer = TfidfVectorizer(\n",
    "    max_features=None,\n",
    "    min_df=1,\n",
    "    ngram_range=(1, 2),  # Allow bigrams\n",
    "    token_pattern=r'[a-zA-Z]+'\n",
    ")\n",
    "\n",
    "tfidf_matrix = vectorizer.fit_transform(cluster_docs)\n",
    "feature_names = vectorizer.get_feature_names_out()\n",
    "\n",
    "print(f\" TF-IDF computed ({len(feature_names)} terms)\")"
   ]
  },
  {
   "cell_type": "code",
   "execution_count": 15,
   "id": "c45c6c5b",
   "metadata": {},
   "outputs": [
    {
     "name": "stdout",
     "output_type": "stream",
     "text": [
      "\n",
      " Characterizing clusters...\n",
      "  Characterized 33 clusters\n"
     ]
    }
   ],
   "source": [
    "import numpy as np\n",
    "\n",
    "print(\"\\n Characterizing clusters...\")\n",
    "\n",
    "results = []\n",
    "\n",
    "for i, row in clusters_df.iterrows():\n",
    "    cluster_id = row['cluster_id']\n",
    "    ingredients = row['ingredient_list']\n",
    "    \n",
    "    # basic stats\n",
    "    size = len(ingredients)\n",
    "\n",
    "    # frequency analysis\n",
    "    freqs = [ingredient_freq.get(ing, 0) for ing in ingredients]\n",
    "    \n",
    "    if len(freqs) == 0:\n",
    "        continue  # Skip empty clusters\n",
    "        \n",
    "    avg_freq = np.mean(freqs)\n",
    "    min_freq = np.min(freqs)\n",
    "    max_freq = np.max(freqs)\n",
    "    # Top 5 ingredients by frequency\n",
    "    ing_with_freq = [(ing, ingredient_freq.get(ing, 0)) for ing in ingredients]\n",
    "    ing_with_freq.sort(key=lambda x: x[1], reverse=True)\n",
    "    top_5_by_freq = ', '.join([ing for ing, _ in ing_with_freq[:5]])\n",
    "    \n",
    "    # === TF-IDF DISTINCTIVE TERMS ===\n",
    "    tfidf_scores = tfidf_matrix[i].toarray().flatten()\n",
    "    top_tfidf_indices = tfidf_scores.argsort()[-5:][::-1]\n",
    "    distinctive_terms = [\n",
    "        feature_names[idx] \n",
    "        for idx in top_tfidf_indices \n",
    "        if tfidf_scores[idx] > 0\n",
    "    ]\n",
    "    distinctive_str = ', '.join(distinctive_terms[:5])\n",
    "    \n",
    "    results.append({\n",
    "        'Cluster': cluster_id,\n",
    "        'Size': size,\n",
    "        'Distinctive_Terms': distinctive_str,\n",
    "        'Top_5_Frequent': top_5_by_freq,\n",
    "        'Avg_Freq': int(avg_freq),\n",
    "        'Min_Freq': min_freq,\n",
    "        'Max_Freq': max_freq\n",
    "    })\n",
    "\n",
    "results_df = pd.DataFrame(results)\n",
    "# Sort by cluster size (descending)\n",
    "results_df = results_df.sort_values('Size', ascending=False).reset_index(drop=True)\n",
    "\n",
    "print(f\"  Characterized {len(results_df)} clusters\")"
   ]
  },
  {
   "cell_type": "code",
   "execution_count": null,
   "id": "de51d162",
   "metadata": {},
   "outputs": [
    {
     "name": "stdout",
     "output_type": "stream",
     "text": [
      "Collecting Jinja2\n",
      "  Using cached jinja2-3.1.6-py3-none-any.whl.metadata (2.9 kB)\n",
      "Collecting MarkupSafe>=2.0 (from Jinja2)\n",
      "  Downloading markupsafe-3.0.3-cp313-cp313-macosx_10_13_x86_64.whl.metadata (2.7 kB)\n",
      "Using cached jinja2-3.1.6-py3-none-any.whl (134 kB)\n",
      "Downloading markupsafe-3.0.3-cp313-cp313-macosx_10_13_x86_64.whl (11 kB)\n",
      "Installing collected packages: MarkupSafe, Jinja2\n",
      "\u001b[2K   \u001b[90m━━━━━━━━━━━━━━━━━━━━━━━━━━━━━━━━━━━━━━━━\u001b[0m \u001b[32m2/2\u001b[0m [Jinja2]\n",
      "\u001b[1A\u001b[2KSuccessfully installed Jinja2-3.1.6 MarkupSafe-3.0.3\n",
      "Note: you may need to restart the kernel to use updated packages.\n",
      "\n",
      "================================================================================\n",
      "CLUSTER CHARACTERIZATION RESULTS\n",
      "================================================================================\n",
      "\n",
      "Top 20 clusters by size:\n",
      "\n",
      " Cluster  Size                                                                Distinctive_Terms                                                                                                                                          Top_5_Frequent Avg_Freq  Min_Freq  Max_Freq\n",
      "      -1  9353                                                cheese, sauce, mix, chicken, beef                                                                                                                    salt, sugar, onion, olive oil, flour      141         0     86964\n",
      "       2    34                                          orange, schnapps, liqueur, vodka, juice                                                                                      orange juice, orange zest, orange rind, cranberry juice, grenadine      235         0      4490\n",
      "      13    31                                            yeast, dry, flour, bread, bread flour                                                                                                warm water, bread flour, yeast, dry yeast, powdered milk      234         0      2057\n",
      "      11    29                                              syrup, ice cream, ice, cream, seeds                                                                                         milk, banana syrup, basil seeds, bubblegum, caramel pudding mix      891         0     25839\n",
      "       0    26                                    tortilla, taco, cheese, flour tortilla, flour                                                                              salsa, monterey jack cheese, taco seasoning, tortilla chips, refried beans      360         0      2764\n",
      "       3    22                                      v, yogurt, honey, banana, blackberry yogurt                                                                          banana, blackberry yogurt, cereal bars, arrowroot cookies, candied mint leaves      103         0      2271\n",
      "      10    20                                              mix, green, cake mix, coconut, cake                                                                           oil, new kitty litter box, clear creme de menthe, licorice whips, onion skins      498         0      9951\n",
      "       1    20                                        lime, liqueur, liqueur lime, melon, juice                                                                                                    lime juice, lime zest, tequila, lime rind, lime peel      258         1      3598\n",
      "      18    19                               snacks, cereal, snacks grappa, fruit snacks, start                                                                                                 raisins, fruit snacks, grappa, caramel corn, guavaberry      234         0      4414\n",
      "      17    19                                caramel, milk chocolate, candy, chocolate, butter                                                            butter, mars bars, peanut butter captain crunch cereal, caramel squares, lucky charms cereal    3,108         0     59021\n",
      "      16    19                                         honey, tea, dried, oil bacon, butter rue                                                                            honey, brewed hibiscus tea, geranium leaf, powdered peanut butter, argan oil      507         1      9620\n",
      "      15    19                                              thai, paste, red, fish sauce, curry                                                                                            coconut milk, fish sauce, lemongrass, red chilies, red chile      268        11      1580\n",
      "      21    17                               pickle, relish, dill, pickle relish, cheese spread                                                                                           mayonnaise, dill pickle, hardboiled egg, pickle juice, pickle      548         0      8367\n",
      "      27    16                                     parmesan, mozzarella, chicken, potatoes, and skinless chicken breast, barbecue potato chips, chicken coating mix, frozen mozzarella garlic bread, simply potatoes steakhouse seasoned diced potatoes        4         0        44\n",
      "       4    14                              tall, flexible, tuaca, mint parfait, semisweet dark                                             whipped cream, disposable spoons, tuaca liqueur, andes mint parfait thins, cadbury caramello chocolate bars       88         0      1225\n",
      "      22    13                                        glutenfree, corn, chex, oat cereal, stick                                                                          rice chex, corn chex, wheat chex, pretzel stick, bugles original flavor snacks       24         0       105\n",
      "      20    13                             pizza, sauce, prepared pizza, pizza sauce, pepperoni                                                                                  mozzarella cheese, ricotta cheese, pepperoni, pizza sauce, pasta sauce      655         0      5000\n",
      "      19    13                         ground, instant, cereal, catnip crystal, ground allspice                                                     ground cinnamon, ground nutmeg, ground allspice, instant tea powder, crystal light orange drink mix      850         0      6954\n",
      "       9    13 ragi flour, raspberrylemonade drink, schnapps cranberry, ragi, cinnamon cheerios                                                                    water, apple cinnamon cheerios, bergamot leaves, blueberry schnapps, cranberry vodka    2,713         0     35271\n",
      "       6    13                                     lemon, jello, sugarfree, cream, cookie crumb                                                                          cream cheese, fresca soda, caramel yogurt, chocolate cream, imported soy sauce      753         0      9782\n",
      "\n",
      " Results saved to: cluster_characterization_automated.csv\n",
      "✓ LaTeX table saved to: cluster_table.tex\n"
     ]
    }
   ],
   "source": [
    "%pip install Jinja2\n",
    "print(\"\\n\" + \"=\"*80)\n",
    "print(\"CLUSTER CHARACTERIZATION RESULTS\")\n",
    "print(\"=\"*80)\n",
    "print(\"\\nTop 20 clusters by size:\\n\")\n",
    "\n",
    "# Display with better formatting\n",
    "display_df = results_df.head(20).copy()\n",
    "display_df['Avg_Freq'] = display_df['Avg_Freq'].apply(lambda x: f\"{x:,}\")\n",
    "print(display_df.to_string(index=False))\n",
    "\n",
    "# Save to CSV\n",
    "results_df.to_csv(OUTPUT_CSV, index=False)\n",
    "print(f\"\\n Results saved to: {OUTPUT_CSV}\")\n",
    "\n",
    "# Save to LaTeX (for report)\n",
    "# Create a cleaner version for LaTeX\n",
    "latex_df = results_df.head(20).copy()\n",
    "latex_df.columns = ['ID', 'Size', 'Distinctive Terms', 'Most Frequent', 'Avg Freq', 'Min', 'Max']\n",
    "latex_df.to_latex(OUTPUT_LATEX, index=False, escape=False, column_format='lllllll')\n",
    "print(f\" LaTeX table saved to: {OUTPUT_LATEX}\")"
   ]
  },
  {
   "cell_type": "code",
   "execution_count": 19,
   "id": "c41aea88",
   "metadata": {},
   "outputs": [
    {
     "name": "stdout",
     "output_type": "stream",
     "text": [
      "\n",
      "Total clusters analyzed: 33\n",
      "\n",
      "Cluster size distribution:\n",
      "  Min: 10\n",
      "  25th percentile: 11\n",
      "  Median: 13\n",
      "  75th percentile: 19\n",
      "  Mean: 298.9\n",
      "  Max: 9353\n",
      "\n",
      "Average frequency distribution:\n",
      "  Min: 0\n",
      "  Median: 268\n",
      "  Mean: 501.5\n",
      "  Max: 3,108\n"
     ]
    }
   ],
   "source": [
    "print(f\"\\nTotal clusters analyzed: {len(results_df)}\")\n",
    "\n",
    "print(f\"\\nCluster size distribution:\")\n",
    "print(f\"  Min: {results_df['Size'].min()}\")\n",
    "print(f\"  25th percentile: {results_df['Size'].quantile(0.25):.0f}\")\n",
    "print(f\"  Median: {results_df['Size'].median():.0f}\")\n",
    "print(f\"  75th percentile: {results_df['Size'].quantile(0.75):.0f}\")\n",
    "print(f\"  Mean: {results_df['Size'].mean():.1f}\")\n",
    "print(f\"  Max: {results_df['Size'].max()}\")\n",
    "\n",
    "print(f\"\\nAverage frequency distribution:\")\n",
    "print(f\"  Min: {results_df['Avg_Freq'].min():,}\")\n",
    "print(f\"  Median: {results_df['Avg_Freq'].median():,.0f}\")\n",
    "print(f\"  Mean: {results_df['Avg_Freq'].mean():,.1f}\")\n",
    "print(f\"  Max: {results_df['Avg_Freq'].max():,}\")\n"
   ]
  },
  {
   "cell_type": "code",
   "execution_count": 22,
   "id": "a3b16cb3",
   "metadata": {},
   "outputs": [
    {
     "name": "stdout",
     "output_type": "stream",
     "text": [
      "\n",
      " Top 5 LARGEST clusters:\n",
      " Cluster  Size                             Distinctive_Terms                                                             Top_5_Frequent\n",
      "      -1  9353             cheese, sauce, mix, chicken, beef                                       salt, sugar, onion, olive oil, flour\n",
      "       2    34       orange, schnapps, liqueur, vodka, juice         orange juice, orange zest, orange rind, cranberry juice, grenadine\n",
      "      13    31         yeast, dry, flour, bread, bread flour                   warm water, bread flour, yeast, dry yeast, powdered milk\n",
      "      11    29           syrup, ice cream, ice, cream, seeds            milk, banana syrup, basil seeds, bubblegum, caramel pudding mix\n",
      "       0    26 tortilla, taco, cheese, flour tortilla, flour salsa, monterey jack cheese, taco seasoning, tortilla chips, refried beans\n",
      "\n",
      " Top 5 clusters with MOST FREQUENT ingredients:\n",
      " Cluster  Size  Avg_Freq                                                                                                         Top_5_Frequent\n",
      "      17    19      3108                           butter, mars bars, peanut butter captain crunch cereal, caramel squares, lucky charms cereal\n",
      "       9    13      2713                                   water, apple cinnamon cheerios, bergamot leaves, blueberry schnapps, cranberry vodka\n",
      "      28    10       977 unsalted butter, bourbon biscuits, bushmills whiskey, chocolate hazelnut chocolate chip biscuits, havarti with caraway\n",
      "      11    29       891                                                        milk, banana syrup, basil seeds, bubblegum, caramel pudding mix\n",
      "      19    13       850                    ground cinnamon, ground nutmeg, ground allspice, instant tea powder, crystal light orange drink mix\n",
      "\n",
      " Top 5 SMALLEST clusters (niche ingredients):\n",
      " Cluster  Size  Avg_Freq                                                                                                         Top_5_Frequent\n",
      "       7    10         1                                          shochu, chocolate ripple ice cream, dill sauce, gevalia dark roast, herbsaint\n",
      "      23    10       706                                             bacon, bacon drippings, toothpick, coating mix, horseradish cheddar cheese\n",
      "      25    10       166               egg white, sponge cake fingers, white cake layers, chocolate fudge cake, fat free beef and pork hot dogs\n",
      "      26    10        71                                       pie crust, pie shell, refrigerated pie crust, pastry shells, deep dish pie shell\n",
      "      28    10       977 unsalted butter, bourbon biscuits, bushmills whiskey, chocolate hazelnut chocolate chip biscuits, havarti with caraway\n",
      "\n",
      " Top 5 clusters with RAREST ingredients:\n",
      " Cluster  Size  Avg_Freq                                                                                                                                          Top_5_Frequent\n",
      "      30    12         0                                         chunky turkey pot pie soup, dried kelp granules, el torito adobo al pastor sauce, granary bread, lamb baby food\n",
      "      14    12         1                                         diet root beer, reduced sugar devils food cake mix, melba sauce, earth balance shortening, pear halves in syrup\n",
      "       8    11         1                                                                       cherry powdered drink mix, gummy fish, ice wine, any desired flavoring, cochineal\n",
      "       7    10         1                                                                           shochu, chocolate ripple ice cream, dill sauce, gevalia dark roast, herbsaint\n",
      "      27    16         4 skinless chicken breast, barbecue potato chips, chicken coating mix, frozen mozzarella garlic bread, simply potatoes steakhouse seasoned diced potatoes\n"
     ]
    }
   ],
   "source": [
    "\n",
    "# Largest clusters\n",
    "print(\"\\n Top 5 LARGEST clusters:\")\n",
    "largest = results_df.nlargest(5, 'Size')[['Cluster', 'Size', 'Distinctive_Terms', 'Top_5_Frequent']]\n",
    "print(largest.to_string(index=False))\n",
    "\n",
    "# Most frequent clusters (common ingredients)\n",
    "print(\"\\n Top 5 clusters with MOST FREQUENT ingredients:\")\n",
    "most_frequent = results_df.nlargest(5, 'Avg_Freq')[['Cluster', 'Size', 'Avg_Freq', 'Top_5_Frequent']]\n",
    "print(most_frequent.to_string(index=False))\n",
    "\n",
    "# Smallest clusters (niche/rare)\n",
    "print(\"\\n Top 5 SMALLEST clusters (niche ingredients):\")\n",
    "smallest = results_df.nsmallest(5, 'Size')[['Cluster', 'Size', 'Avg_Freq', 'Top_5_Frequent']]\n",
    "print(smallest.to_string(index=False))\n",
    "\n",
    "# Low-frequency clusters (rare ingredients)\n",
    "print(\"\\n Top 5 clusters with RAREST ingredients:\")\n",
    "rarest = results_df.nsmallest(5, 'Avg_Freq')[['Cluster', 'Size', 'Avg_Freq', 'Top_5_Frequent']]\n",
    "print(rarest.to_string(index=False))"
   ]
  },
  {
   "cell_type": "code",
   "execution_count": 24,
   "id": "b02fc150",
   "metadata": {},
   "outputs": [
    {
     "name": "stdout",
     "output_type": "stream",
     "text": [
      "\n",
      " Most COHESIVE clusters (low frequency variance):\n",
      " Cluster  Size  Avg_Freq  Freq_Std                                                   Distinctive_Terms\n",
      "      30    12         0  0.276385    turkey, chunky turkey, farms original, salt pepper, pastor sauce\n",
      "       7    10         1  0.300000   soda, malaga wine, granola shochu, sauce gevalia, roast herbsaint\n",
      "       8    11         1  0.738549 cochineal fatfree, syrup thai, lychee syrup, ice wine, wine koolaid\n",
      "      14    12         1  1.497683            fat free, free, fat, coating diet, soymilk confectioners\n",
      "      27    16         4 10.638961                        parmesan, mozzarella, chicken, potatoes, and\n"
     ]
    },
    {
     "name": "stderr",
     "output_type": "stream",
     "text": [
      "/var/folders/p3/6f00l5q90dz_dlmyjws1fv1h0000gn/T/ipykernel_18338/1020590673.py:8: FutureWarning: Setting an item of incompatible dtype is deprecated and will raise an error in a future version of pandas. Value '1416.5851090595725' has dtype incompatible with int64, please explicitly cast to a compatible dtype first.\n",
      "  results_df.loc[results_df['Cluster'] == row['cluster_id'], 'Freq_Std'] = freq_std\n"
     ]
    }
   ],
   "source": [
    "# Compute intra-cluster frequency variance (cohesion indicator)\n",
    "results_df['Freq_Std'] = 0\n",
    "for i, row in clusters_df.iterrows():\n",
    "    ingredients = row['ingredient_list']\n",
    "    freqs = [ingredient_freq.get(ing, 0) for ing in ingredients]\n",
    "    if len(freqs) > 1:\n",
    "        freq_std = np.std(freqs)\n",
    "        results_df.loc[results_df['Cluster'] == row['cluster_id'], 'Freq_Std'] = freq_std\n",
    "\n",
    "# Clusters with low frequency variance = more cohesive\n",
    "print(\"\\n Most COHESIVE clusters (low frequency variance):\")\n",
    "cohesive = results_df.nsmallest(5, 'Freq_Std')[['Cluster', 'Size', 'Avg_Freq', 'Freq_Std', 'Distinctive_Terms']]\n",
    "print(cohesive.to_string(index=False))\n"
   ]
  }
 ],
 "metadata": {
  "kernelspec": {
   "display_name": "base",
   "language": "python",
   "name": "python3"
  },
  "language_info": {
   "codemirror_mode": {
    "name": "ipython",
    "version": 3
   },
   "file_extension": ".py",
   "mimetype": "text/x-python",
   "name": "python",
   "nbconvert_exporter": "python",
   "pygments_lexer": "ipython3",
   "version": "3.13.5"
  }
 },
 "nbformat": 4,
 "nbformat_minor": 5
}
