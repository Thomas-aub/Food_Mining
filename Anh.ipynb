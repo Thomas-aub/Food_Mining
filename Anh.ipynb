{
 "cells": [
  {
   "cell_type": "code",
   "execution_count": 2,
   "id": "e3695b8d",
   "metadata": {},
   "outputs": [
    {
     "data": {
      "text/html": [
       "<div>\n",
       "<style scoped>\n",
       "    .dataframe tbody tr th:only-of-type {\n",
       "        vertical-align: middle;\n",
       "    }\n",
       "\n",
       "    .dataframe tbody tr th {\n",
       "        vertical-align: top;\n",
       "    }\n",
       "\n",
       "    .dataframe thead th {\n",
       "        text-align: right;\n",
       "    }\n",
       "</style>\n",
       "<table border=\"1\" class=\"dataframe\">\n",
       "  <thead>\n",
       "    <tr style=\"text-align: right;\">\n",
       "      <th></th>\n",
       "      <th>name_x</th>\n",
       "      <th>nutrition</th>\n",
       "      <th>n_steps</th>\n",
       "      <th>ingredients_y</th>\n",
       "      <th>minutes</th>\n",
       "    </tr>\n",
       "  </thead>\n",
       "  <tbody>\n",
       "    <tr>\n",
       "      <th>0</th>\n",
       "      <td>arriba   baked winter squash mexican style</td>\n",
       "      <td>[51.5, 0.0, 13.0, 0.0, 2.0, 0.0, 4.0]</td>\n",
       "      <td>11</td>\n",
       "      <td>['winter squash', 'mexican seasoning', 'mixed ...</td>\n",
       "      <td>55</td>\n",
       "    </tr>\n",
       "    <tr>\n",
       "      <th>1</th>\n",
       "      <td>a bit different  breakfast pizza</td>\n",
       "      <td>[173.4, 18.0, 0.0, 17.0, 22.0, 35.0, 1.0]</td>\n",
       "      <td>9</td>\n",
       "      <td>['prepared pizza crust', 'sausage patty', 'egg...</td>\n",
       "      <td>30</td>\n",
       "    </tr>\n",
       "    <tr>\n",
       "      <th>2</th>\n",
       "      <td>all in the kitchen  chili</td>\n",
       "      <td>[269.8, 22.0, 32.0, 48.0, 39.0, 27.0, 5.0]</td>\n",
       "      <td>6</td>\n",
       "      <td>['ground beef', 'yellow onions', 'diced tomato...</td>\n",
       "      <td>130</td>\n",
       "    </tr>\n",
       "    <tr>\n",
       "      <th>3</th>\n",
       "      <td>alouette  potatoes</td>\n",
       "      <td>[368.1, 17.0, 10.0, 2.0, 14.0, 8.0, 20.0]</td>\n",
       "      <td>11</td>\n",
       "      <td>['spreadable cheese with garlic and herbs', 'n...</td>\n",
       "      <td>45</td>\n",
       "    </tr>\n",
       "    <tr>\n",
       "      <th>4</th>\n",
       "      <td>amish  tomato ketchup  for canning</td>\n",
       "      <td>[352.9, 1.0, 337.0, 23.0, 3.0, 0.0, 28.0]</td>\n",
       "      <td>5</td>\n",
       "      <td>['tomato juice', 'apple cider vinegar', 'sugar...</td>\n",
       "      <td>190</td>\n",
       "    </tr>\n",
       "  </tbody>\n",
       "</table>\n",
       "</div>"
      ],
      "text/plain": [
       "                                       name_x  \\\n",
       "0  arriba   baked winter squash mexican style   \n",
       "1            a bit different  breakfast pizza   \n",
       "2                   all in the kitchen  chili   \n",
       "3                          alouette  potatoes   \n",
       "4          amish  tomato ketchup  for canning   \n",
       "\n",
       "                                    nutrition  n_steps  \\\n",
       "0       [51.5, 0.0, 13.0, 0.0, 2.0, 0.0, 4.0]       11   \n",
       "1   [173.4, 18.0, 0.0, 17.0, 22.0, 35.0, 1.0]        9   \n",
       "2  [269.8, 22.0, 32.0, 48.0, 39.0, 27.0, 5.0]        6   \n",
       "3   [368.1, 17.0, 10.0, 2.0, 14.0, 8.0, 20.0]       11   \n",
       "4   [352.9, 1.0, 337.0, 23.0, 3.0, 0.0, 28.0]        5   \n",
       "\n",
       "                                       ingredients_y  minutes  \n",
       "0  ['winter squash', 'mexican seasoning', 'mixed ...       55  \n",
       "1  ['prepared pizza crust', 'sausage patty', 'egg...       30  \n",
       "2  ['ground beef', 'yellow onions', 'diced tomato...      130  \n",
       "3  ['spreadable cheese with garlic and herbs', 'n...       45  \n",
       "4  ['tomato juice', 'apple cider vinegar', 'sugar...      190  "
      ]
     },
     "execution_count": 2,
     "metadata": {},
     "output_type": "execute_result"
    }
   ],
   "source": [
    "import pandas as pd\n",
    "import numpy as np\n",
    "from itertools import combinations\n",
    "from collections import defaultdict\n",
    "from sklearn.cluster import DBSCAN\n",
    "from sklearn.metrics import pairwise_distances\n",
    "from scipy.sparse import lil_matrix\n",
    "import ast\n",
    "df = pd.read_csv(\"data/clean_data/recipes_cleaned.csv\")\n",
    "df.head()"
   ]
  },
  {
   "cell_type": "code",
   "execution_count": 3,
   "id": "da68860f",
   "metadata": {},
   "outputs": [
    {
     "name": "stdout",
     "output_type": "stream",
     "text": [
      "\n",
      "Type de ingredients_y : <class 'str'>\n",
      "Exemple : ['winter squash', 'mexican seasoning', 'mixed spice', 'honey', 'butter', 'olive oil', 'salt']\n",
      "Parsing ingredients_y de string vers list...\n"
     ]
    }
   ],
   "source": [
    "# Parser la colonne ingredients_y\n",
    "# Vérifier si c'est une string ou déjà une liste\n",
    "print(f\"\\nType de ingredients_y : {type(df['ingredients_y'].iloc[0])}\")\n",
    "print(f\"Exemple : {df['ingredients_y'].iloc[0]}\")\n",
    "\n",
    "# Si c'est une string (ex: \"['salt', 'pepper']\"), parser en liste\n",
    "if isinstance(df['ingredients_y'].iloc[0], str):\n",
    "    print(\"Parsing ingredients_y de string vers list...\")\n",
    "    df['ingredients_y'] = df['ingredients_y'].apply(ast.literal_eval)"
   ]
  },
  {
   "cell_type": "code",
   "execution_count": 4,
   "id": "db411a44",
   "metadata": {},
   "outputs": [
    {
     "name": "stdout",
     "output_type": "stream",
     "text": [
      "  Nombre de recettes : 222705\n",
      "  Ingrédients uniques : 14621\n"
     ]
    }
   ],
   "source": [
    "# Construire le vocabulaire d'ingrédients\n",
    "all_ingredients = []\n",
    "for ing_list in df['ingredients_y']:\n",
    "    # Dédupliquer dans chaque recette\n",
    "    all_ingredients.extend(set(ing_list))\n",
    "\n",
    "unique_ingredients = sorted(set(all_ingredients))\n",
    "ingredients_index = {ing: idx for idx, ing in enumerate(unique_ingredients)}\n",
    "n = len(unique_ingredients)\n",
    "\n",
    "print(f\"  Nombre de recettes : {len(df)}\")\n",
    "print(f\"  Ingrédients uniques : {n}\")"
   ]
  },
  {
   "cell_type": "code",
   "execution_count": 5,
   "id": "4ff692dd",
   "metadata": {},
   "outputs": [
    {
     "name": "stdout",
     "output_type": "stream",
     "text": [
      "  Ingrédients/recette : min=1, max=43, moyenne=9.1\n"
     ]
    }
   ],
   "source": [
    "# Vérifier la distribution \n",
    "ing_per_recipe = df['ingredients_y'].apply(lambda x: len(set(x)))\n",
    "print(f\"  Ingrédients/recette : min={ing_per_recipe.min()}, \"\n",
    "      f\"max={ing_per_recipe.max()}, moyenne={ing_per_recipe.mean():.1f}\")"
   ]
  },
  {
   "cell_type": "code",
   "execution_count": 6,
   "id": "bea4ac5b",
   "metadata": {},
   "outputs": [
    {
     "name": "stdout",
     "output_type": "stream",
     "text": [
      "  Matrice X : (222705, 14621), densité=0.0006\n"
     ]
    }
   ],
   "source": [
    "# Construire matrice binaire recettes × ingrédients\n",
    "# Cette méthode est la plus robuste\n",
    "n_recipes = len(df)\n",
    "X = lil_matrix((n_recipes, n), dtype=bool)\n",
    "\n",
    "for r, ing_list in enumerate(df['ingredients_y']):\n",
    "    unique_in_recipe = set(ing_list)  # dédupliquer\n",
    "    for ing in unique_in_recipe:\n",
    "        X[r, ingredients_index[ing]] = True\n",
    "\n",
    "# Convertir en CSR pour calculs efficaces\n",
    "X = X.tocsr()\n",
    "\n",
    "print(f\"  Matrice X : {X.shape}, densité={X.nnz / (X.shape[0] * X.shape[1]):.4f}\")"
   ]
  },
  {
   "cell_type": "code",
   "execution_count": 7,
   "id": "7148e3c3",
   "metadata": {},
   "outputs": [
    {
     "name": "stdout",
     "output_type": "stream",
     "text": [
      "\n",
      " Fréquences des ingrédients :\n",
      "  Min : 1\n",
      "  Max : 83152\n",
      "  Médiane : 5\n",
      "  Total : 2028585\n",
      "\n",
      " Top 10 ingrédients les plus fréquents :\n",
      "  salt: 83152 recettes\n",
      "  butter: 53656 recettes\n",
      "  sugar: 42544 recettes\n",
      "  onion: 38174 recettes\n",
      "  water: 33416 recettes\n",
      "  eggs: 33226 recettes\n",
      "  olive oil: 32138 recettes\n",
      "  flour: 25676 recettes\n",
      "  garlic cloves: 25147 recettes\n",
      "  milk: 24854 recettes\n"
     ]
    }
   ],
   "source": [
    "# Calculer fréquences et vérifier cohérence \n",
    "deg = np.array(X.sum(axis=0)).flatten()  # somme par colonne = fréquence ingrédient\n",
    "\n",
    "print(f\"\\n Fréquences des ingrédients :\")\n",
    "print(f\"  Min : {deg.min()}\")\n",
    "print(f\"  Max : {deg.max()}\")\n",
    "print(f\"  Médiane : {np.median(deg):.0f}\")\n",
    "print(f\"  Total : {deg.sum()}\")\n",
    "\n",
    "# Top 10 ingrédients\n",
    "top10_idx = np.argsort(deg)[-10:][::-1]\n",
    "print(f\"\\n Top 10 ingrédients les plus fréquents :\")\n",
    "for idx in top10_idx:\n",
    "    print(f\"  {unique_ingredients[idx]}: {deg[idx]} recettes\")\n"
   ]
  },
  {
   "cell_type": "code",
   "execution_count": 8,
   "id": "7898ccbc",
   "metadata": {},
   "outputs": [
    {
     "name": "stdout",
     "output_type": "stream",
     "text": [
      "\n",
      " Calcul de la matrice de distances Cosine (approximation Jaccard)...\n",
      "  Matrice de distances : (14621, 14621)\n",
      "  Min distance : 0.0000\n",
      "  Max distance : 1.0000\n",
      "  Symétrique : True\n",
      " Calcul terminé en 0.10 min\n"
     ]
    }
   ],
   "source": [
    "# --- ÉTAPE 7 (version rapide avec Cosine Distance) ---\n",
    "from sklearn.metrics.pairwise import cosine_distances\n",
    "import time, numpy as np\n",
    "\n",
    "print(\"\\n Calcul de la matrice de distances Cosine (approximation Jaccard)...\")\n",
    "\n",
    "start = time.time()\n",
    "\n",
    "X_ingredients = X.T  # ingrédients × recettes\n",
    "distance_matrix = cosine_distances(X_ingredients)  # beaucoup plus rapide\n",
    "\n",
    "print(f\"  Matrice de distances : {distance_matrix.shape}\")\n",
    "print(f\"  Min distance : {distance_matrix.min():.4f}\")\n",
    "print(f\"  Max distance : {distance_matrix.max():.4f}\")\n",
    "print(f\"  Symétrique : {np.allclose(distance_matrix, distance_matrix.T)}\")\n",
    "print(f\" Calcul terminé en {(time.time()-start)/60:.2f} min\")\n",
    "\n",
    "np.save(\"data/distance_matrix_cosine.npy\", distance_matrix)\n"
   ]
  },
  {
   "cell_type": "code",
   "execution_count": 9,
   "id": "ef454883",
   "metadata": {},
   "outputs": [
    {
     "data": {
      "image/png": "[encoded data removed]",
      "text/plain": [
       "<Figure size 1000x500 with 1 Axes>"
      ]
     },
     "metadata": {},
     "output_type": "display_data"
    },
    {
     "name": "stdout",
     "output_type": "stream",
     "text": [
      "\n",
      " Suggestions eps :\n",
      "  90e percentile : 0.991\n",
      "  95e percentile : 0.997\n"
     ]
    }
   ],
   "source": [
    "# Choisir eps via k-distance plot \n",
    "from sklearn.neighbors import NearestNeighbors\n",
    "\n",
    "k = 5  # min_samples\n",
    "nbrs = NearestNeighbors(n_neighbors=k+1, metric='precomputed').fit(distance_matrix)\n",
    "distances, indices = nbrs.kneighbors(distance_matrix)\n",
    "kdist = np.sort(distances[:, k])  # k-ième voisin (exclut soi-même)\n",
    "\n",
    "# Plot\n",
    "import matplotlib.pyplot as plt\n",
    "plt.figure(figsize=(10, 5))\n",
    "plt.plot(kdist, linewidth=1)\n",
    "plt.xlabel('Ingrédients (triés par k-distance)')\n",
    "plt.ylabel(f'{k}-distance')\n",
    "plt.title(f'K-distance plot pour déterminer eps (k={k})')\n",
    "plt.grid(True, alpha=0.3)\n",
    "\n",
    "# Suggérer eps au 90e percentile comme départ\n",
    "eps_90 = np.percentile(kdist, 90)\n",
    "eps_95 = np.percentile(kdist, 95)\n",
    "plt.axhline(y=eps_90, color='orange', linestyle='--', label=f'90e percentile ({eps_90:.3f})')\n",
    "plt.axhline(y=eps_95, color='red', linestyle='--', label=f'95e percentile ({eps_95:.3f})')\n",
    "plt.legend()\n",
    "plt.tight_layout()\n",
    "plt.savefig('kdistance_plot.png', dpi=150)\n",
    "plt.show()\n",
    "\n",
    "print(f\"\\n Suggestions eps :\")\n",
    "print(f\"  90e percentile : {eps_90:.3f}\")\n",
    "print(f\"  95e percentile : {eps_95:.3f}\")"
   ]
  },
  {
   "cell_type": "code",
   "execution_count": 10,
   "id": "edad7692",
   "metadata": {},
   "outputs": [
    {
     "name": "stdout",
     "output_type": "stream",
     "text": [
      "eps=0.500 → clusters=6, noise=14587\n",
      "eps=0.550 → clusters=8, noise=14572\n",
      "eps=0.600 → clusters=11, noise=14547\n",
      "eps=0.650 → clusters=19, noise=14504\n",
      "eps=0.700 → clusters=29, noise=14441\n",
      "eps=0.800 → clusters=108, noise=13863\n",
      "eps=0.850 → clusters=195, noise=12740\n",
      "eps=0.900 → clusters=274, noise=9264\n",
      "eps=0.930 → clusters=140, noise=4420\n",
      "eps=0.950 → clusters=25, noise=1316\n"
     ]
    }
   ],
   "source": [
    "for eps in [0.5, 0.55, 0.6, 0.65, 0.7, 0.8, 0.85, 0.9, 0.93, 0.95]:\n",
    "    db = DBSCAN(eps=eps, min_samples=5, metric='precomputed').fit(distance_matrix)\n",
    "    n_clusters = len(set(db.labels_)) - (1 if -1 in db.labels_ else 0)\n",
    "    noise = np.sum(db.labels_ == -1)\n",
    "    print(f\"eps={eps:.3f} → clusters={n_clusters}, noise={noise}\")\n",
    "\n",
    "\n"
   ]
  },
  {
   "cell_type": "code",
   "execution_count": null,
   "id": "38b9c433",
   "metadata": {},
   "outputs": [
    {
     "name": "stdout",
     "output_type": "stream",
     "text": [
      "\n",
      "Clusters found with Cosine (eps=0.6): 11\n"
     ]
    },
    {
     "ename": "NameError",
     "evalue": "name 'vectorizer' is not defined",
     "output_type": "error",
     "traceback": [
      "\u001b[31m---------------------------------------------------------------------------\u001b[39m",
      "\u001b[31mNameError\u001b[39m                                 Traceback (most recent call last)",
      "\u001b[36mCell\u001b[39m\u001b[36m \u001b[39m\u001b[32mIn[11]\u001b[39m\u001b[32m, line 12\u001b[39m\n\u001b[32m     10\u001b[39m \u001b[38;5;66;03m# Group ingredients by cluster\u001b[39;00m\n\u001b[32m     11\u001b[39m clusters = defaultdict(\u001b[38;5;28mlist\u001b[39m)\n\u001b[32m---> \u001b[39m\u001b[32m12\u001b[39m \u001b[38;5;28;01mfor\u001b[39;00m ing, label \u001b[38;5;129;01min\u001b[39;00m \u001b[38;5;28mzip\u001b[39m(\u001b[43mvectorizer\u001b[49m.get_feature_names_out(), labels):\n\u001b[32m     13\u001b[39m     clusters[label].append(ing)\n\u001b[32m     15\u001b[39m \u001b[38;5;66;03m# Display a few examples per cluster\u001b[39;00m\n",
      "\u001b[31mNameError\u001b[39m: name 'vectorizer' is not defined"
     ]
    }
   ],
   "source": [
    "from collections import defaultdict\n",
    "\n",
    "# Exécuter DBSCAN avec le meilleur eps (ex: 0.6)\n",
    "db = DBSCAN(eps=0.6, min_samples=5, metric='precomputed').fit(distance_matrix)\n",
    "labels = db.labels_\n",
    "n_clusters = len(set(labels)) - (1 if -1 in labels else 0)\n",
    "print(f\"\\nClusters found with Cosine (eps=0.6): {n_clusters}\")\n",
    "\n",
    "\n",
    "# Group ingredients by cluster\n",
    "clusters = defaultdict(list)\n",
    "for ing, label in zip(vectorizer.get_feature_names_out(), labels):\n",
    "    clusters[label].append(ing)\n",
    "\n",
    "# Display a few examples per cluster\n",
    "for k, v in clusters.items():\n",
    "    if k == -1:\n",
    "        print(f\"\\nNoise ({len(v)} ingrédients isolés):\")\n",
    "    else:\n",
    "        print(f\"\\nCluster {k} ({len(v)} ingrédients): {', '.join(v[:10])} ...\")\n"
   ]
  }
 ],
 "metadata": {
  "kernelspec": {
   "display_name": "torch_env",
   "language": "python",
   "name": "python3"
  },
  "language_info": {
   "codemirror_mode": {
    "name": "ipython",
    "version": 3
   },
   "file_extension": ".py",
   "mimetype": "text/x-python",
   "name": "python",
   "nbconvert_exporter": "python",
   "pygments_lexer": "ipython3",
   "version": "3.11.13"
  }
 },
 "nbformat": 4,
 "nbformat_minor": 5
}
