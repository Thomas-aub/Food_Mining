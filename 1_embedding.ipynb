{
 "cells": [
  {
   "cell_type": "code",
   "execution_count": null,
   "id": "e3695b8d",
   "metadata": {},
   "outputs": [],
   "source": [
    "import pandas as pd\n",
    "import numpy as np\n",
    "from itertools import combinations\n",
    "from collections import defaultdict\n",
    "from sklearn.cluster import DBSCAN\n",
    "from sklearn.metrics import pairwise_distances\n",
    "from scipy.sparse import lil_matrix\n",
    "import ast\n",
    "import matplotlib.pyplot as plt\n",
    "import seaborn as sns\n",
    "import re\n",
    "import unidecode\n",
    "from sentence_transformers import SentenceTransformer\n",
    "from sklearn.cluster import AgglomerativeClustering\n",
    "from sklearn.metrics.pairwise import cosine_similarity\n",
    "from umap.umap_ import UMAP\n",
    "import matplotlib.pyplot as plt\n",
    "import random"
   ]
  },
  {
   "cell_type": "markdown",
   "id": "c88cc71a",
   "metadata": {},
   "source": [
    "# 📝 The purpose of this notebook is to :\n",
    "- Clean up and standardize recipe ingredients\n",
    "- Group together semantically similar ingredients (via embeddings)\n",
    "- Reduce ingredient vocabulary to facilitate analysis\n",
    "- Visualize clusters and save a cleaned CSV\n",
    "- Provide an \"ingredient -> clean form\" dictionary"
   ]
  },
  {
   "cell_type": "markdown",
   "id": "77248cb8",
   "metadata": {},
   "source": [
    "### 0️⃣ STEP 0 - Setup"
   ]
  },
  {
   "cell_type": "code",
   "execution_count": 17,
   "id": "61428013",
   "metadata": {},
   "outputs": [
    {
     "name": "stdout",
     "output_type": "stream",
     "text": [
      "(222705, 5)\n"
     ]
    },
    {
     "data": {
      "text/html": [
       "<div>\n",
       "<style scoped>\n",
       "    .dataframe tbody tr th:only-of-type {\n",
       "        vertical-align: middle;\n",
       "    }\n",
       "\n",
       "    .dataframe tbody tr th {\n",
       "        vertical-align: top;\n",
       "    }\n",
       "\n",
       "    .dataframe thead th {\n",
       "        text-align: right;\n",
       "    }\n",
       "</style>\n",
       "<table border=\"1\" class=\"dataframe\">\n",
       "  <thead>\n",
       "    <tr style=\"text-align: right;\">\n",
       "      <th></th>\n",
       "      <th>name_x</th>\n",
       "      <th>nutrition</th>\n",
       "      <th>n_steps</th>\n",
       "      <th>ingredients_y</th>\n",
       "      <th>minutes</th>\n",
       "    </tr>\n",
       "  </thead>\n",
       "  <tbody>\n",
       "    <tr>\n",
       "      <th>0</th>\n",
       "      <td>arriba   baked winter squash mexican style</td>\n",
       "      <td>[51.5, 0.0, 13.0, 0.0, 2.0, 0.0, 4.0]</td>\n",
       "      <td>11</td>\n",
       "      <td>['winter squash', 'mexican seasoning', 'mixed ...</td>\n",
       "      <td>55</td>\n",
       "    </tr>\n",
       "    <tr>\n",
       "      <th>1</th>\n",
       "      <td>a bit different  breakfast pizza</td>\n",
       "      <td>[173.4, 18.0, 0.0, 17.0, 22.0, 35.0, 1.0]</td>\n",
       "      <td>9</td>\n",
       "      <td>['prepared pizza crust', 'sausage patty', 'egg...</td>\n",
       "      <td>30</td>\n",
       "    </tr>\n",
       "    <tr>\n",
       "      <th>2</th>\n",
       "      <td>all in the kitchen  chili</td>\n",
       "      <td>[269.8, 22.0, 32.0, 48.0, 39.0, 27.0, 5.0]</td>\n",
       "      <td>6</td>\n",
       "      <td>['ground beef', 'yellow onions', 'diced tomato...</td>\n",
       "      <td>130</td>\n",
       "    </tr>\n",
       "    <tr>\n",
       "      <th>3</th>\n",
       "      <td>alouette  potatoes</td>\n",
       "      <td>[368.1, 17.0, 10.0, 2.0, 14.0, 8.0, 20.0]</td>\n",
       "      <td>11</td>\n",
       "      <td>['spreadable cheese with garlic and herbs', 'n...</td>\n",
       "      <td>45</td>\n",
       "    </tr>\n",
       "    <tr>\n",
       "      <th>4</th>\n",
       "      <td>amish  tomato ketchup  for canning</td>\n",
       "      <td>[352.9, 1.0, 337.0, 23.0, 3.0, 0.0, 28.0]</td>\n",
       "      <td>5</td>\n",
       "      <td>['tomato juice', 'apple cider vinegar', 'sugar...</td>\n",
       "      <td>190</td>\n",
       "    </tr>\n",
       "  </tbody>\n",
       "</table>\n",
       "</div>"
      ],
      "text/plain": [
       "                                       name_x  \\\n",
       "0  arriba   baked winter squash mexican style   \n",
       "1            a bit different  breakfast pizza   \n",
       "2                   all in the kitchen  chili   \n",
       "3                          alouette  potatoes   \n",
       "4          amish  tomato ketchup  for canning   \n",
       "\n",
       "                                    nutrition  n_steps  \\\n",
       "0       [51.5, 0.0, 13.0, 0.0, 2.0, 0.0, 4.0]       11   \n",
       "1   [173.4, 18.0, 0.0, 17.0, 22.0, 35.0, 1.0]        9   \n",
       "2  [269.8, 22.0, 32.0, 48.0, 39.0, 27.0, 5.0]        6   \n",
       "3   [368.1, 17.0, 10.0, 2.0, 14.0, 8.0, 20.0]       11   \n",
       "4   [352.9, 1.0, 337.0, 23.0, 3.0, 0.0, 28.0]        5   \n",
       "\n",
       "                                       ingredients_y  minutes  \n",
       "0  ['winter squash', 'mexican seasoning', 'mixed ...       55  \n",
       "1  ['prepared pizza crust', 'sausage patty', 'egg...       30  \n",
       "2  ['ground beef', 'yellow onions', 'diced tomato...      130  \n",
       "3  ['spreadable cheese with garlic and herbs', 'n...       45  \n",
       "4  ['tomato juice', 'apple cider vinegar', 'sugar...      190  "
      ]
     },
     "execution_count": 17,
     "metadata": {},
     "output_type": "execute_result"
    }
   ],
   "source": [
    "df = pd.read_csv(\"data/clean_data/recipes_truncated.csv\")\n",
    "print(df.shape)\n",
    "df.head()"
   ]
  },
  {
   "cell_type": "markdown",
   "id": "210002ba",
   "metadata": {},
   "source": [
    "#### Parsing the ingredients_y column"
   ]
  },
  {
   "cell_type": "code",
   "execution_count": 18,
   "id": "da68860f",
   "metadata": {},
   "outputs": [
    {
     "name": "stdout",
     "output_type": "stream",
     "text": [
      "\n",
      "Original type of ingredients_y: <class 'str'>\n",
      "Example: ['winter squash', 'mexican seasoning', 'mixed spice', 'honey', 'butter', 'olive oil', 'salt']\n",
      "Parsing ingredients_y from string to list...\n",
      "Type after parsing: <class 'list'>\n",
      "Example after parsing: ['winter squash', 'mexican seasoning', 'mixed spice', 'honey', 'butter', 'olive oil', 'salt']\n"
     ]
    }
   ],
   "source": [
    "# Check the type of the first value\n",
    "print(f\"\\nOriginal type of ingredients_y: {type(df['ingredients_y'].iloc[0])}\")\n",
    "print(f\"Example: {df['ingredients_y'].iloc[0]}\")\n",
    "\n",
    "# If it's a string (e.g., \"['salt', 'pepper']\"), convert to a Python list\n",
    "if isinstance(df['ingredients_y'].iloc[0], str):\n",
    "    print(\"Parsing ingredients_y from string to list...\")\n",
    "    df['ingredients_y'] = df['ingredients_y'].apply(ast.literal_eval)\n",
    "    \n",
    "# Verification after parsing\n",
    "print(f\"Type after parsing: {type(df['ingredients_y'].iloc[0])}\")\n",
    "print(f\"Example after parsing: {df['ingredients_y'].iloc[0]}\")"
   ]
  },
  {
   "cell_type": "markdown",
   "id": "b2ad56a5",
   "metadata": {},
   "source": [
    "#### Building the vocabulary of ingredients"
   ]
  },
  {
   "cell_type": "code",
   "execution_count": 21,
   "id": "db411a44",
   "metadata": {},
   "outputs": [
    {
     "name": "stdout",
     "output_type": "stream",
     "text": [
      "Total number of recipes: 222705\n",
      "Number of unique ingredients: 14621\n"
     ]
    }
   ],
   "source": [
    "# Retrieve all ingredients and deduplicate within each recipe\n",
    "all_ingredients = []\n",
    "\n",
    "for ing_list in df['ingredients_y']:\n",
    "    all_ingredients.extend(set(ing_list))  # removes duplicates within each recipe\n",
    "    \n",
    "# Create a list of unique ingredients and an index for each\n",
    "unique_ingredients = sorted(set(all_ingredients))\n",
    "ingredients_index = {ing: idx for idx, ing in enumerate(unique_ingredients)}\n",
    "n = len(unique_ingredients)\n",
    "\n",
    "print(f\"Total number of recipes: {len(df)}\")\n",
    "print(f\"Number of unique ingredients: {n}\")"
   ]
  },
  {
   "cell_type": "markdown",
   "id": "30645649",
   "metadata": {},
   "source": [
    "### 🧹 STEP 1 - Lexical cleaning of ingredients"
   ]
  },
  {
   "cell_type": "code",
   "execution_count": 22,
   "id": "29647eec",
   "metadata": {},
   "outputs": [
    {
     "name": "stdout",
     "output_type": "stream",
     "text": [
      "Example after cleaning: ['winter squash', 'mexican seasoning', 'mixed spice', 'honey', 'butter', 'olive oil', 'salt']\n"
     ]
    }
   ],
   "source": [
    "def clean_ingredient(ing):\n",
    "    ing = ing.lower()\n",
    "    ing = unidecode.unidecode(ing)  # removes accents\n",
    "    ing = re.sub(r'\\([^)]*\\)', '', ing)  # removes parentheses\n",
    "    ing = re.sub(r'[^a-z\\s]', '', ing)  # keeps letters and spaces\n",
    "    ing = re.sub(r'\\s+', ' ', ing).strip()  # removes multiple spaces\n",
    "    return ing\n",
    "\n",
    "df[\"ingredients_y\"] = df[\"ingredients_y\"].apply(\n",
    "    lambda lst: [clean_ingredient(x) for x in lst]\n",
    ")\n",
    "\n",
    "print(f\"Example after cleaning: {df['ingredients_y'].iloc[0]}\")"
   ]
  },
  {
   "cell_type": "markdown",
   "id": "29759ac4",
   "metadata": {},
   "source": [
    "### 🧠 STEP 2 - Embeddings of unique ingredients"
   ]
  },
  {
   "cell_type": "code",
   "execution_count": 24,
   "id": "02fa9fa4",
   "metadata": {},
   "outputs": [
    {
     "name": "stdout",
     "output_type": "stream",
     "text": [
      "Before reduction: 14540\n"
     ]
    },
    {
     "data": {
      "application/vnd.jupyter.widget-view+json": {
       "model_id": "20544a5d913f4267bbb568f5cb0e9b62",
       "version_major": 2,
       "version_minor": 0
      },
      "text/plain": [
       "Batches:   0%|          | 0/455 [00:00<?, ?it/s]"
      ]
     },
     "metadata": {},
     "output_type": "display_data"
    }
   ],
   "source": [
    "ingredients = list(set(x for lst in df[\"ingredients_y\"] for x in lst))\n",
    "print(\"Before reduction:\", len(ingredients))\n",
    "\n",
    "model = SentenceTransformer(\"all-MiniLM-L6-v2\")\n",
    "\n",
    "embeddings = model.encode(ingredients, show_progress_bar=True)"
   ]
  },
  {
   "cell_type": "markdown",
   "id": "c2384835",
   "metadata": {},
   "source": [
    "### 🔗 STEP 3 - Semantic clustering of ingredients"
   ]
  },
  {
   "cell_type": "code",
   "execution_count": 26,
   "id": "957a9b82",
   "metadata": {},
   "outputs": [],
   "source": [
    "sim_matrix = cosine_similarity(embeddings)\n",
    "\n",
    "# Hierarchical clustering based on cosine similarity\n",
    "cluster = AgglomerativeClustering(\n",
    "    n_clusters=None,\n",
    "    metric=\"precomputed\",\n",
    "    linkage=\"average\",\n",
    "    distance_threshold=0.15  # similarity threshold (1 - 0.85)\n",
    ")\n",
    "\n",
    "labels = cluster.fit_predict(1 - sim_matrix)"
   ]
  },
  {
   "cell_type": "markdown",
   "id": "af990a84",
   "metadata": {},
   "source": [
    "### 🧭 STEP 4 - Creating the ingredient -> representative mapping"
   ]
  },
  {
   "cell_type": "code",
   "execution_count": 27,
   "id": "00ee013e",
   "metadata": {},
   "outputs": [
    {
     "name": "stdout",
     "output_type": "stream",
     "text": [
      "After grouping: 9864\n"
     ]
    }
   ],
   "source": [
    "mapping_df = pd.DataFrame({\"ingredient\": ingredients, \"cluster\": labels})\n",
    "\n",
    "# Choose the shortest representative for each cluster\n",
    "representants = (\n",
    "    mapping_df.groupby(\"cluster\")[\"ingredient\"]\n",
    "    .apply(lambda g: min(g, key=len))\n",
    "    .to_dict()\n",
    ")\n",
    "\n",
    "# Complete mapping dictionary\n",
    "mapping = {row[\"ingredient\"]: representants[row[\"cluster\"]] for _, row in mapping_df.iterrows()}\n",
    "print(\"After grouping:\", len(set(mapping.values())))\n",
    "\n",
    "# Apply mapping to the DataFrame\n",
    "df[\"ingredients_reduced\"] = df[\"ingredients_y\"].apply(\n",
    "    lambda lst: list(set(mapping.get(x, x) for x in lst))\n",
    ")"
   ]
  },
  {
   "cell_type": "markdown",
   "id": "e2cbaf88",
   "metadata": {},
   "source": [
    "### 📊 STEP 5 - Reduction statistics"
   ]
  },
  {
   "cell_type": "code",
   "execution_count": 28,
   "id": "6f91ea50",
   "metadata": {},
   "outputs": [
    {
     "name": "stdout",
     "output_type": "stream",
     "text": [
      "Reduction: 14540 → 9864 (32.2%)\n",
      "Cluster 0: ['light olive oil', 'italian olive oil', 'olive oil', 'pure olive oil', 'lite olive oil']\n",
      "Cluster 1: ['candy cane', 'miniature candy canes', 'candy canes']\n",
      "Cluster 2: ['pizza dough', 'recipe pizza dough', 'basic pizza dough']\n",
      "Cluster 3: ['pink lemonade', 'lemonade']\n",
      "Cluster 4: ['espresso', 'espresso beans', 'espresso coffee']\n"
     ]
    }
   ],
   "source": [
    "before = len(ingredients)\n",
    "after = len(set(mapping.values()))\n",
    "\n",
    "print(f\"Reduction: {before} → {after} ({((1 - after/before)*100):.1f}%)\")\n",
    "\n",
    "# Display some clusters for inspection\n",
    "for i in range(5):\n",
    "    group = mapping_df[mapping_df[\"cluster\"] == i][\"ingredient\"].tolist()\n",
    "    print(f\"Cluster {i}: {group[:10]}\")"
   ]
  },
  {
   "cell_type": "markdown",
   "id": "9205152d",
   "metadata": {},
   "source": [
    "### 🎨 STEP 6 - UMAP cluster visualization"
   ]
  },
  {
   "cell_type": "code",
   "execution_count": 30,
   "id": "ddf5a6f6",
   "metadata": {},
   "outputs": [
    {
     "name": "stderr",
     "output_type": "stream",
     "text": [
      "c:\\Users\\edgar\\anaconda3\\envs\\data_mining\\Lib\\site-packages\\umap\\umap_.py:1952: UserWarning: n_jobs value 1 overridden to 1 by setting random_state. Use no seed for parallelism.\n",
      "  warn(\n"
     ]
    },
    {
     "data": {
      "image/png": "[encoded data removed]",
      "text/plain": [
       "<Figure size 1000x800 with 1 Axes>"
      ]
     },
     "metadata": {},
     "output_type": "display_data"
    }
   ],
   "source": [
    "umap = UMAP(n_neighbors=15, min_dist=0.1, metric='cosine', random_state=42)\n",
    "\n",
    "emb_2d = umap.fit_transform(embeddings)\n",
    "mapping_df[\"x\"] = emb_2d[:, 0]\n",
    "mapping_df[\"y\"] = emb_2d[:, 1]\n",
    "\n",
    "plt.figure(figsize=(10,8))\n",
    "plt.scatter(\n",
    "    mapping_df[\"x\"],\n",
    "    mapping_df[\"y\"],\n",
    "    c=mapping_df[\"cluster\"],\n",
    "    cmap=\"tab20\",\n",
    "    s=5,\n",
    "    alpha=0.7\n",
    ")\n",
    "plt.title(\"UMAP Projection of Semantically Grouped Ingredients\")\n",
    "plt.xlabel(\"UMAP-1\")\n",
    "plt.ylabel(\"UMAP-2\")\n",
    "plt.show()"
   ]
  },
  {
   "cell_type": "markdown",
   "id": "9c6b188a",
   "metadata": {},
   "source": [
    "### 📈 STEP 7 - Cluster size analysis"
   ]
  },
  {
   "cell_type": "code",
   "execution_count": 31,
   "id": "eb577188",
   "metadata": {},
   "outputs": [
    {
     "data": {
      "image/png": "[encoded data removed]",
      "text/plain": [
       "<Figure size 1000x400 with 1 Axes>"
      ]
     },
     "metadata": {},
     "output_type": "display_data"
    },
    {
     "name": "stdout",
     "output_type": "stream",
     "text": [
      "Total clusters: 9864\n",
      "Average size: 1.47\n"
     ]
    },
    {
     "data": {
      "image/png": "[encoded data removed]",
      "text/plain": [
       "<Figure size 800x500 with 1 Axes>"
      ]
     },
     "metadata": {},
     "output_type": "display_data"
    }
   ],
   "source": [
    "cluster_sizes = mapping_df[\"cluster\"].value_counts()\n",
    "\n",
    "plt.figure(figsize=(10,4))\n",
    "plt.hist(cluster_sizes, bins=50, color=\"skyblue\", edgecolor=\"black\")\n",
    "plt.title(\"Distribution of Ingredient Cluster Sizes\")\n",
    "plt.xlabel(\"Number of Ingredients per Cluster\")\n",
    "plt.ylabel(\"Frequency\")\n",
    "plt.show()\n",
    "\n",
    "print(f\"Total clusters: {mapping_df['cluster'].nunique()}\")\n",
    "print(f\"Average size: {cluster_sizes.mean():.2f}\")\n",
    "\n",
    "# Top 20 largest clusters\n",
    "top_clusters = cluster_sizes.head(20)\n",
    "\n",
    "plt.figure(figsize=(8,5))\n",
    "top_clusters.plot(kind=\"bar\", color=\"mediumseagreen\")\n",
    "plt.title(\"Top 20 Ingredient Clusters (by size)\")\n",
    "plt.xlabel(\"Cluster ID\")\n",
    "plt.ylabel(\"Number of Grouped Ingredients\")\n",
    "plt.show()"
   ]
  },
  {
   "cell_type": "code",
   "execution_count": 37,
   "id": "60556dc2",
   "metadata": {},
   "outputs": [
    {
     "data": {
      "image/png": "[encoded data removed]",
      "text/plain": [
       "<Figure size 600x500 with 1 Axes>"
      ]
     },
     "metadata": {},
     "output_type": "display_data"
    }
   ],
   "source": [
    "# Example of a specific cluster\n",
    "cid = 1579\n",
    "subset = mapping_df[mapping_df[\"cluster\"] == cid]\n",
    "\n",
    "plt.figure(figsize=(6,5))\n",
    "plt.scatter(subset[\"x\"], subset[\"y\"], color=\"orange\", s=15)\n",
    "for _, row in subset.iterrows():\n",
    "    plt.text(row[\"x\"], row[\"y\"], row[\"ingredient\"], fontsize=7)\n",
    "plt.title(f\"Ingredients in Cluster {cid}\")\n",
    "plt.show()"
   ]
  },
  {
   "cell_type": "markdown",
   "id": "567a862b",
   "metadata": {},
   "source": [
    "### 🧾 STEP 8 - Creating and checking the final result"
   ]
  },
  {
   "cell_type": "code",
   "execution_count": 38,
   "id": "99ecf066",
   "metadata": {},
   "outputs": [
    {
     "name": "stdout",
     "output_type": "stream",
     "text": [
      "Before: ['salt', 'pepper', 'ground ginger', 'garlic powder', 'paprika', 'boneless pork loin chops', 'apples', 'red onion', 'chicken broth', 'maple syrup', 'lemon juice', 'cinnamon', 'nutmeg', 'allspice', 'clove', 'brown sugar']\n",
      "After: ['allspice', 'apples', 'boneless pork chop', 'brown sugar', 'chicken broth', 'cinnamon', 'clove', 'garlic powder', 'ground ginger', 'lemon juice', 'maple syrup', 'nutmeg', 'paprika', 'pepper', 'red onion', 'salt']\n"
     ]
    }
   ],
   "source": [
    "df[\"ingredients_clean\"] = df[\"ingredients_y\"].apply(\n",
    "    lambda lst: sorted(set(mapping.get(x, x) for x in lst))\n",
    ")\n",
    "\n",
    "i = np.random.randint(len(df))\n",
    "print(\"Before:\", df.loc[i, \"ingredients_y\"])\n",
    "print(\"After:\", df.loc[i, \"ingredients_clean\"])"
   ]
  },
  {
   "cell_type": "markdown",
   "id": "47f8c4e8",
   "metadata": {},
   "source": [
    "### 💾 STEP 9 - Saving the final cleaned DataFrame"
   ]
  },
  {
   "cell_type": "code",
   "execution_count": 39,
   "id": "e51a2315",
   "metadata": {},
   "outputs": [
    {
     "name": "stdout",
     "output_type": "stream",
     "text": [
      "✅ New CSV saved: data/clean_data/ingredients_reduced.csv\n"
     ]
    }
   ],
   "source": [
    "output_path = \"data/clean_data/ingredients_reduced.csv\"\n",
    "df.to_csv(output_path, index=False)\n",
    "print(f\"✅ New CSV saved: {output_path}\")"
   ]
  },
  {
   "cell_type": "markdown",
   "id": "89520043",
   "metadata": {},
   "source": [
    "### 🔍 STEP 10 - Qualitative inspection before / after cleaning"
   ]
  },
  {
   "cell_type": "code",
   "execution_count": 40,
   "id": "b3d8476f",
   "metadata": {},
   "outputs": [
    {
     "name": "stdout",
     "output_type": "stream",
     "text": [
      "\n",
      "🔍 Qualitative check of cleaning:\n",
      "\n",
      "Recipe 30342\n",
      "Before: ['hamburger meat', 'onion', 'flour', 'milk', 'salt and pepper', 'oil']\n",
      "After: ['flour', 'hamburger', 'milk', 'oil', 'onion', 'salt pepper']\n",
      "--------------------------------------------------------------------------------\n",
      "Recipe 147142\n",
      "Before: ['smart balance butter spread', 'whole wheat flour', 'lowfat milk', 'kosher salt', 'tabasco sauce', 'elbow macaroni', 'parmigianoreggiano cheese', 'partskim mozzarella cheese', 'salt and pepper', 'chili powder']\n",
      "After: ['chili powder', 'elbow macaroni', 'kosher salt', 'lowfat milk', 'parmigianoreggiano cheese', 'partskim mozzarella cheese', 'salt pepper', 'smart balance butter spread', 'tabasco sauce', 'whole wheat flour']\n",
      "--------------------------------------------------------------------------------\n",
      "Recipe 72933\n",
      "Before: ['butter', 'boneless skinless chicken breasts', 'halfandhalf', 'parmesan cheese', 'green onion', 'garlic', 'fresh parsley', 'cracked black pepper', 'parmesan cheese', 'fettuccine']\n",
      "After: ['boneless chicken breast', 'butter', 'cracked pepper', 'fettuccine', 'fresh parsley', 'garlic', 'green onion', 'halfandhalf', 'parmesan cheese']\n",
      "--------------------------------------------------------------------------------\n",
      "Recipe 4814\n",
      "Before: ['fish fillets', 'gram flour', 'garlic paste', 'ginger paste', 'ajwain', 'red chili powder', 'lemon juice', 'egg', 'yogurt', 'oil', 'salt', 'chat masala']\n",
      "After: ['ajwain', 'chat masala', 'egg', 'fish fillet', 'garlic paste', 'ginger paste', 'gram flour', 'lemon juice', 'oil', 'red chili powder', 'salt', 'yogurt']\n",
      "--------------------------------------------------------------------------------\n",
      "Recipe 43910\n",
      "Before: ['peaches', 'hazelnut oil', 'balsamic vinegar', 'cooked chicken', 'hazelnuts', 'cilantro', 'salt', 'pepper', 'spinach leaves']\n",
      "After: ['balsamic vinegar', 'cilantro', 'cooked chicken', 'hazelnut oil', 'hazelnuts', 'peach', 'pepper', 'salt', 'spinach leaves']\n",
      "--------------------------------------------------------------------------------\n"
     ]
    }
   ],
   "source": [
    "n_samples = 5\n",
    "\n",
    "sample_indices = random.sample(range(len(df)), n_samples)\n",
    "\n",
    "print(\"\\n🔍 Qualitative check of cleaning:\\n\")\n",
    "for i in sample_indices:\n",
    "    before = df.loc[i, \"ingredients_y\"]\n",
    "    after = df.loc[i, \"ingredients_clean\"]\n",
    "    print(f\"Recipe {i}\")\n",
    "    print(\"Before:\", before)\n",
    "    print(\"After:\", after)\n",
    "    print(\"-\" * 80)"
   ]
  }
 ],
 "metadata": {
  "kernelspec": {
   "display_name": "data_mining",
   "language": "python",
   "name": "python3"
  },
  "language_info": {
   "codemirror_mode": {
    "name": "ipython",
    "version": 3
   },
   "file_extension": ".py",
   "mimetype": "text/x-python",
   "name": "python",
   "nbconvert_exporter": "python",
   "pygments_lexer": "ipython3",
   "version": "3.11.13"
  }
 },
 "nbformat": 4,
 "nbformat_minor": 5
}
