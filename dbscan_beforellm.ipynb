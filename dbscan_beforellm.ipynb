{
 "cells": [
  {
   "cell_type": "code",
   "execution_count": 6,
   "id": "e3695b8d",
   "metadata": {},
   "outputs": [
    {
     "data": {
      "text/html": [
       "<div>\n",
       "<style scoped>\n",
       "    .dataframe tbody tr th:only-of-type {\n",
       "        vertical-align: middle;\n",
       "    }\n",
       "\n",
       "    .dataframe tbody tr th {\n",
       "        vertical-align: top;\n",
       "    }\n",
       "\n",
       "    .dataframe thead th {\n",
       "        text-align: right;\n",
       "    }\n",
       "</style>\n",
       "<table border=\"1\" class=\"dataframe\">\n",
       "  <thead>\n",
       "    <tr style=\"text-align: right;\">\n",
       "      <th></th>\n",
       "      <th>name_x</th>\n",
       "      <th>nutrition</th>\n",
       "      <th>n_steps</th>\n",
       "      <th>ingredients_y</th>\n",
       "      <th>minutes</th>\n",
       "    </tr>\n",
       "  </thead>\n",
       "  <tbody>\n",
       "    <tr>\n",
       "      <th>0</th>\n",
       "      <td>arriba   baked winter squash mexican style</td>\n",
       "      <td>[51.5, 0.0, 13.0, 0.0, 2.0, 0.0, 4.0]</td>\n",
       "      <td>11</td>\n",
       "      <td>['winter squash', 'mexican seasoning', 'mixed ...</td>\n",
       "      <td>55</td>\n",
       "    </tr>\n",
       "    <tr>\n",
       "      <th>1</th>\n",
       "      <td>a bit different  breakfast pizza</td>\n",
       "      <td>[173.4, 18.0, 0.0, 17.0, 22.0, 35.0, 1.0]</td>\n",
       "      <td>9</td>\n",
       "      <td>['prepared pizza crust', 'sausage patty', 'egg...</td>\n",
       "      <td>30</td>\n",
       "    </tr>\n",
       "    <tr>\n",
       "      <th>2</th>\n",
       "      <td>all in the kitchen  chili</td>\n",
       "      <td>[269.8, 22.0, 32.0, 48.0, 39.0, 27.0, 5.0]</td>\n",
       "      <td>6</td>\n",
       "      <td>['ground beef', 'yellow onions', 'diced tomato...</td>\n",
       "      <td>130</td>\n",
       "    </tr>\n",
       "    <tr>\n",
       "      <th>3</th>\n",
       "      <td>alouette  potatoes</td>\n",
       "      <td>[368.1, 17.0, 10.0, 2.0, 14.0, 8.0, 20.0]</td>\n",
       "      <td>11</td>\n",
       "      <td>['spreadable cheese with garlic and herbs', 'n...</td>\n",
       "      <td>45</td>\n",
       "    </tr>\n",
       "    <tr>\n",
       "      <th>4</th>\n",
       "      <td>amish  tomato ketchup  for canning</td>\n",
       "      <td>[352.9, 1.0, 337.0, 23.0, 3.0, 0.0, 28.0]</td>\n",
       "      <td>5</td>\n",
       "      <td>['tomato juice', 'apple cider vinegar', 'sugar...</td>\n",
       "      <td>190</td>\n",
       "    </tr>\n",
       "  </tbody>\n",
       "</table>\n",
       "</div>"
      ],
      "text/plain": [
       "                                       name_x  \\\n",
       "0  arriba   baked winter squash mexican style   \n",
       "1            a bit different  breakfast pizza   \n",
       "2                   all in the kitchen  chili   \n",
       "3                          alouette  potatoes   \n",
       "4          amish  tomato ketchup  for canning   \n",
       "\n",
       "                                    nutrition  n_steps  \\\n",
       "0       [51.5, 0.0, 13.0, 0.0, 2.0, 0.0, 4.0]       11   \n",
       "1   [173.4, 18.0, 0.0, 17.0, 22.0, 35.0, 1.0]        9   \n",
       "2  [269.8, 22.0, 32.0, 48.0, 39.0, 27.0, 5.0]        6   \n",
       "3   [368.1, 17.0, 10.0, 2.0, 14.0, 8.0, 20.0]       11   \n",
       "4   [352.9, 1.0, 337.0, 23.0, 3.0, 0.0, 28.0]        5   \n",
       "\n",
       "                                       ingredients_y  minutes  \n",
       "0  ['winter squash', 'mexican seasoning', 'mixed ...       55  \n",
       "1  ['prepared pizza crust', 'sausage patty', 'egg...       30  \n",
       "2  ['ground beef', 'yellow onions', 'diced tomato...      130  \n",
       "3  ['spreadable cheese with garlic and herbs', 'n...       45  \n",
       "4  ['tomato juice', 'apple cider vinegar', 'sugar...      190  "
      ]
     },
     "execution_count": 6,
     "metadata": {},
     "output_type": "execute_result"
    }
   ],
   "source": [
    "import pandas as pd\n",
    "import numpy as np\n",
    "from itertools import combinations\n",
    "from collections import defaultdict\n",
    "from sklearn.cluster import DBSCAN\n",
    "from sklearn.metrics import pairwise_distances\n",
    "from scipy.sparse import lil_matrix\n",
    "import ast\n",
    "df = pd.read_csv(\"data/clean_data/recipes_cleaned.csv\")\n",
    "df.head()"
   ]
  },
  {
   "cell_type": "code",
   "execution_count": 7,
   "id": "da68860f",
   "metadata": {},
   "outputs": [
    {
     "name": "stdout",
     "output_type": "stream",
     "text": [
      "\n",
      "Type de ingredients_y : <class 'str'>\n",
      "Exemple : ['winter squash', 'mexican seasoning', 'mixed spice', 'honey', 'butter', 'olive oil', 'salt']\n",
      "Parsing ingredients_y de string vers list...\n"
     ]
    }
   ],
   "source": [
    "# Parser la colonne ingredients_y\n",
    "# Vérifier si c'est une string ou déjà une liste\n",
    "print(f\"\\nType de ingredients_y : {type(df['ingredients_y'].iloc[0])}\")\n",
    "print(f\"Exemple : {df['ingredients_y'].iloc[0]}\")\n",
    "\n",
    "# Si c'est une string (ex: \"['salt', 'pepper']\"), parser en liste\n",
    "if isinstance(df['ingredients_y'].iloc[0], str):\n",
    "    print(\"Parsing ingredients_y de string vers list...\")\n",
    "    df['ingredients_y'] = df['ingredients_y'].apply(ast.literal_eval)"
   ]
  },
  {
   "cell_type": "code",
   "execution_count": 8,
   "id": "db411a44",
   "metadata": {},
   "outputs": [
    {
     "name": "stdout",
     "output_type": "stream",
     "text": [
      "  Nombre de recettes : 222705\n",
      "  Ingrédients uniques : 14621\n"
     ]
    }
   ],
   "source": [
    "# Construire le vocabulaire d'ingrédients\n",
    "all_ingredients = []\n",
    "for ing_list in df['ingredients_y']:\n",
    "    # Dédupliquer dans chaque recette\n",
    "    all_ingredients.extend(set(ing_list))\n",
    "\n",
    "unique_ingredients = sorted(set(all_ingredients))\n",
    "ingredients_index = {ing: idx for idx, ing in enumerate(unique_ingredients)}\n",
    "n = len(unique_ingredients)\n",
    "\n",
    "print(f\"  Nombre de recettes : {len(df)}\")\n",
    "print(f\"  Ingrédients uniques : {n}\")"
   ]
  },
  {
   "cell_type": "code",
   "execution_count": 9,
   "id": "4ff692dd",
   "metadata": {},
   "outputs": [
    {
     "name": "stdout",
     "output_type": "stream",
     "text": [
      "  Ingrédients/recette : min=1, max=43, moyenne=9.1\n"
     ]
    }
   ],
   "source": [
    "# Vérifier la distribution \n",
    "ing_per_recipe = df['ingredients_y'].apply(lambda x: len(set(x)))\n",
    "print(f\"  Ingrédients/recette : min={ing_per_recipe.min()}, \"\n",
    "      f\"max={ing_per_recipe.max()}, moyenne={ing_per_recipe.mean():.1f}\")"
   ]
  },
  {
   "cell_type": "code",
   "execution_count": 10,
   "id": "bea4ac5b",
   "metadata": {},
   "outputs": [
    {
     "name": "stdout",
     "output_type": "stream",
     "text": [
      "  Matrice X : (222705, 14621), densité=0.0006\n"
     ]
    }
   ],
   "source": [
    "# Construire matrice binaire recettes × ingrédients\n",
    "# Cette méthode est la plus robuste\n",
    "n_recipes = len(df)\n",
    "X = lil_matrix((n_recipes, n), dtype=bool)\n",
    "\n",
    "for r, ing_list in enumerate(df['ingredients_y']):\n",
    "    unique_in_recipe = set(ing_list)  # dédupliquer\n",
    "    for ing in unique_in_recipe:\n",
    "        X[r, ingredients_index[ing]] = True\n",
    "\n",
    "# Convertir en CSR pour calculs efficaces\n",
    "X = X.tocsr()\n",
    "\n",
    "print(f\"  Matrice X : {X.shape}, densité={X.nnz / (X.shape[0] * X.shape[1]):.4f}\")"
   ]
  },
  {
   "cell_type": "code",
   "execution_count": 11,
   "id": "7148e3c3",
   "metadata": {},
   "outputs": [
    {
     "name": "stdout",
     "output_type": "stream",
     "text": [
      "\n",
      " Fréquences des ingrédients :\n",
      "  Min : 1\n",
      "  Max : 83152\n",
      "  Médiane : 5\n",
      "  Total : 2028585\n",
      "\n",
      " Top 10 ingrédients les plus fréquents :\n",
      "  salt: 83152 recettes\n",
      "  butter: 53656 recettes\n",
      "  sugar: 42544 recettes\n",
      "  onion: 38174 recettes\n",
      "  water: 33416 recettes\n",
      "  eggs: 33226 recettes\n",
      "  olive oil: 32138 recettes\n",
      "  flour: 25676 recettes\n",
      "  garlic cloves: 25147 recettes\n",
      "  milk: 24854 recettes\n"
     ]
    }
   ],
   "source": [
    "# Calculer fréquences et vérifier cohérence \n",
    "deg = np.array(X.sum(axis=0)).flatten()  # somme par colonne = fréquence ingrédient\n",
    "\n",
    "print(f\"\\n Fréquences des ingrédients :\")\n",
    "print(f\"  Min : {deg.min()}\")\n",
    "print(f\"  Max : {deg.max()}\")\n",
    "print(f\"  Médiane : {np.median(deg):.0f}\")\n",
    "print(f\"  Total : {deg.sum()}\")\n",
    "\n",
    "# Top 10 ingrédients\n",
    "top10_idx = np.argsort(deg)[-10:][::-1]\n",
    "print(f\"\\n Top 10 ingrédients les plus fréquents :\")\n",
    "for idx in top10_idx:\n",
    "    print(f\"  {unique_ingredients[idx]}: {deg[idx]} recettes\")\n"
   ]
  },
  {
   "cell_type": "code",
   "execution_count": null,
   "id": "7898ccbc",
   "metadata": {},
   "outputs": [
    {
     "name": "stdout",
     "output_type": "stream",
     "text": [
      "\n",
      " Calcul de la matrice de distances Cosine (approximation Jaccard)...\n",
      "  Matrice de distances : (1010, 1010)\n",
      "  Min distance : 0.0000\n",
      "  Max distance : 1.0000\n",
      "  Symétrique : True\n",
      "✅ Calcul terminé en 0.02 min\n"
     ]
    }
   ],
   "source": [
    "# --- ÉTAPE 7 (version rapide avec Cosine Distance) ---\n",
    "from sklearn.metrics.pairwise import cosine_distances\n",
    "import time, numpy as np\n",
    "\n",
    "print(\"\\n Calcul de la matrice de distances Cosine (approximation Jaccard)...\")\n",
    "\n",
    "start = time.time()\n",
    "\n",
    "X_ingredients = X.T  # ingrédients × recettes\n",
    "distance_matrix = cosine_distances(X_ingredients)  # beaucoup plus rapide\n",
    "\n",
    "print(f\"  Matrice de distances : {distance_matrix.shape}\")\n",
    "print(f\"  Min distance : {distance_matrix.min():.4f}\")\n",
    "print(f\"  Max distance : {distance_matrix.max():.4f}\")\n",
    "print(f\"  Symétrique : {np.allclose(distance_matrix, distance_matrix.T)}\")\n",
    "print(f\" Calcul terminé en {(time.time()-start)/60:.2f} min\")\n",
    "\n",
    "np.save(\"data/distance_matrix_cosine.npy\", distance_matrix)\n"
   ]
  },
  {
   "cell_type": "code",
   "execution_count": null,
   "id": "dd66faff",
   "metadata": {},
   "outputs": [
    {
     "name": "stdout",
     "output_type": "stream",
     "text": [
      "  Ingrédients sélectionnés (>= 100 recettes) : 1803\n",
      "  Nouvelle matrice X : (222705, 1010) (recettes × ingrédients fréquents)\n",
      "  Calcul de la matrice de distances Jaccard...\n"
     ]
    },
    {
     "name": "stderr",
     "output_type": "stream",
     "text": [
      "/Users/duybeobn1/miniconda/lib/python3.13/site-packages/sklearn/metrics/pairwise.py:2462: DataConversionWarning: Data was converted to boolean for metric jaccard\n",
      "  warnings.warn(msg, DataConversionWarning)\n"
     ]
    },
    {
     "ename": "KeyboardInterrupt",
     "evalue": "",
     "output_type": "error",
     "traceback": [
      "\u001b[31m---------------------------------------------------------------------------\u001b[39m",
      "\u001b[31mKeyboardInterrupt\u001b[39m                         Traceback (most recent call last)",
      "\u001b[36mCell\u001b[39m\u001b[36m \u001b[39m\u001b[32mIn[13]\u001b[39m\u001b[32m, line 34\u001b[39m\n\u001b[32m     31\u001b[39m X_ingredients = X.T  \u001b[38;5;66;03m# shape: (n_ingredients, n_recettes)\u001b[39;00m\n\u001b[32m     33\u001b[39m \u001b[38;5;66;03m# Convertir en dense car Jaccard ne supporte pas sparse ici\u001b[39;00m\n\u001b[32m---> \u001b[39m\u001b[32m34\u001b[39m distance_matrix = \u001b[43mpairwise_distances\u001b[49m\u001b[43m(\u001b[49m\u001b[43mX_ingredients\u001b[49m\u001b[43m.\u001b[49m\u001b[43mtoarray\u001b[49m\u001b[43m(\u001b[49m\u001b[43m)\u001b[49m\u001b[43m,\u001b[49m\u001b[43m \u001b[49m\u001b[43mmetric\u001b[49m\u001b[43m=\u001b[49m\u001b[33;43m'\u001b[39;49m\u001b[33;43mjaccard\u001b[39;49m\u001b[33;43m'\u001b[39;49m\u001b[43m,\u001b[49m\u001b[43m \u001b[49m\u001b[43mn_jobs\u001b[49m\u001b[43m=\u001b[49m\u001b[43m-\u001b[49m\u001b[32;43m1\u001b[39;49m\u001b[43m)\u001b[49m\n\u001b[32m     36\u001b[39m \u001b[38;5;28mprint\u001b[39m(\u001b[33mf\u001b[39m\u001b[33m\"\u001b[39m\u001b[33m  Matrice de distances : \u001b[39m\u001b[38;5;132;01m{\u001b[39;00mdistance_matrix.shape\u001b[38;5;132;01m}\u001b[39;00m\u001b[33m\"\u001b[39m)\n\u001b[32m     37\u001b[39m \u001b[38;5;28mprint\u001b[39m(\u001b[33mf\u001b[39m\u001b[33m\"\u001b[39m\u001b[33m  Min distance : \u001b[39m\u001b[38;5;132;01m{\u001b[39;00mdistance_matrix.min()\u001b[38;5;132;01m:\u001b[39;00m\u001b[33m.4f\u001b[39m\u001b[38;5;132;01m}\u001b[39;00m\u001b[33m\"\u001b[39m)\n",
      "\u001b[36mFile \u001b[39m\u001b[32m~/miniconda/lib/python3.13/site-packages/sklearn/utils/_param_validation.py:218\u001b[39m, in \u001b[36mvalidate_params.<locals>.decorator.<locals>.wrapper\u001b[39m\u001b[34m(*args, **kwargs)\u001b[39m\n\u001b[32m    212\u001b[39m \u001b[38;5;28;01mtry\u001b[39;00m:\n\u001b[32m    213\u001b[39m     \u001b[38;5;28;01mwith\u001b[39;00m config_context(\n\u001b[32m    214\u001b[39m         skip_parameter_validation=(\n\u001b[32m    215\u001b[39m             prefer_skip_nested_validation \u001b[38;5;129;01mor\u001b[39;00m global_skip_validation\n\u001b[32m    216\u001b[39m         )\n\u001b[32m    217\u001b[39m     ):\n\u001b[32m--> \u001b[39m\u001b[32m218\u001b[39m         \u001b[38;5;28;01mreturn\u001b[39;00m \u001b[43mfunc\u001b[49m\u001b[43m(\u001b[49m\u001b[43m*\u001b[49m\u001b[43margs\u001b[49m\u001b[43m,\u001b[49m\u001b[43m \u001b[49m\u001b[43m*\u001b[49m\u001b[43m*\u001b[49m\u001b[43mkwargs\u001b[49m\u001b[43m)\u001b[49m\n\u001b[32m    219\u001b[39m \u001b[38;5;28;01mexcept\u001b[39;00m InvalidParameterError \u001b[38;5;28;01mas\u001b[39;00m e:\n\u001b[32m    220\u001b[39m     \u001b[38;5;66;03m# When the function is just a wrapper around an estimator, we allow\u001b[39;00m\n\u001b[32m    221\u001b[39m     \u001b[38;5;66;03m# the function to delegate validation to the estimator, but we replace\u001b[39;00m\n\u001b[32m    222\u001b[39m     \u001b[38;5;66;03m# the name of the estimator by the name of the function in the error\u001b[39;00m\n\u001b[32m    223\u001b[39m     \u001b[38;5;66;03m# message to avoid confusion.\u001b[39;00m\n\u001b[32m    224\u001b[39m     msg = re.sub(\n\u001b[32m    225\u001b[39m         \u001b[33mr\u001b[39m\u001b[33m\"\u001b[39m\u001b[33mparameter of \u001b[39m\u001b[33m\\\u001b[39m\u001b[33mw+ must be\u001b[39m\u001b[33m\"\u001b[39m,\n\u001b[32m    226\u001b[39m         \u001b[33mf\u001b[39m\u001b[33m\"\u001b[39m\u001b[33mparameter of \u001b[39m\u001b[38;5;132;01m{\u001b[39;00mfunc.\u001b[34m__qualname__\u001b[39m\u001b[38;5;132;01m}\u001b[39;00m\u001b[33m must be\u001b[39m\u001b[33m\"\u001b[39m,\n\u001b[32m    227\u001b[39m         \u001b[38;5;28mstr\u001b[39m(e),\n\u001b[32m    228\u001b[39m     )\n",
      "\u001b[36mFile \u001b[39m\u001b[32m~/miniconda/lib/python3.13/site-packages/sklearn/metrics/pairwise.py:2476\u001b[39m, in \u001b[36mpairwise_distances\u001b[39m\u001b[34m(X, Y, metric, n_jobs, force_all_finite, ensure_all_finite, **kwds)\u001b[39m\n\u001b[32m   2473\u001b[39m         \u001b[38;5;28;01mreturn\u001b[39;00m distance.squareform(distance.pdist(X, metric=metric, **kwds))\n\u001b[32m   2474\u001b[39m     func = partial(distance.cdist, metric=metric, **kwds)\n\u001b[32m-> \u001b[39m\u001b[32m2476\u001b[39m \u001b[38;5;28;01mreturn\u001b[39;00m \u001b[43m_parallel_pairwise\u001b[49m\u001b[43m(\u001b[49m\u001b[43mX\u001b[49m\u001b[43m,\u001b[49m\u001b[43m \u001b[49m\u001b[43mY\u001b[49m\u001b[43m,\u001b[49m\u001b[43m \u001b[49m\u001b[43mfunc\u001b[49m\u001b[43m,\u001b[49m\u001b[43m \u001b[49m\u001b[43mn_jobs\u001b[49m\u001b[43m,\u001b[49m\u001b[43m \u001b[49m\u001b[43m*\u001b[49m\u001b[43m*\u001b[49m\u001b[43mkwds\u001b[49m\u001b[43m)\u001b[49m\n",
      "\u001b[36mFile \u001b[39m\u001b[32m~/miniconda/lib/python3.13/site-packages/sklearn/metrics/pairwise.py:1965\u001b[39m, in \u001b[36m_parallel_pairwise\u001b[39m\u001b[34m(X, Y, func, n_jobs, **kwds)\u001b[39m\n\u001b[32m   1963\u001b[39m fd = delayed(_dist_wrapper)\n\u001b[32m   1964\u001b[39m ret = np.empty((X.shape[\u001b[32m0\u001b[39m], Y.shape[\u001b[32m0\u001b[39m]), dtype=dtype, order=\u001b[33m\"\u001b[39m\u001b[33mF\u001b[39m\u001b[33m\"\u001b[39m)\n\u001b[32m-> \u001b[39m\u001b[32m1965\u001b[39m \u001b[43mParallel\u001b[49m\u001b[43m(\u001b[49m\u001b[43mbackend\u001b[49m\u001b[43m=\u001b[49m\u001b[33;43m\"\u001b[39;49m\u001b[33;43mthreading\u001b[39;49m\u001b[33;43m\"\u001b[39;49m\u001b[43m,\u001b[49m\u001b[43m \u001b[49m\u001b[43mn_jobs\u001b[49m\u001b[43m=\u001b[49m\u001b[43mn_jobs\u001b[49m\u001b[43m)\u001b[49m\u001b[43m(\u001b[49m\n\u001b[32m   1966\u001b[39m \u001b[43m    \u001b[49m\u001b[43mfd\u001b[49m\u001b[43m(\u001b[49m\u001b[43mfunc\u001b[49m\u001b[43m,\u001b[49m\u001b[43m \u001b[49m\u001b[43mret\u001b[49m\u001b[43m,\u001b[49m\u001b[43m \u001b[49m\u001b[43ms\u001b[49m\u001b[43m,\u001b[49m\u001b[43m \u001b[49m\u001b[43mX\u001b[49m\u001b[43m,\u001b[49m\u001b[43m \u001b[49m\u001b[43mY\u001b[49m\u001b[43m[\u001b[49m\u001b[43ms\u001b[49m\u001b[43m]\u001b[49m\u001b[43m,\u001b[49m\u001b[43m \u001b[49m\u001b[43m*\u001b[49m\u001b[43m*\u001b[49m\u001b[43mkwds\u001b[49m\u001b[43m)\u001b[49m\n\u001b[32m   1967\u001b[39m \u001b[43m    \u001b[49m\u001b[38;5;28;43;01mfor\u001b[39;49;00m\u001b[43m \u001b[49m\u001b[43ms\u001b[49m\u001b[43m \u001b[49m\u001b[38;5;129;43;01min\u001b[39;49;00m\u001b[43m \u001b[49m\u001b[43mgen_even_slices\u001b[49m\u001b[43m(\u001b[49m\u001b[43m_num_samples\u001b[49m\u001b[43m(\u001b[49m\u001b[43mY\u001b[49m\u001b[43m)\u001b[49m\u001b[43m,\u001b[49m\u001b[43m \u001b[49m\u001b[43meffective_n_jobs\u001b[49m\u001b[43m(\u001b[49m\u001b[43mn_jobs\u001b[49m\u001b[43m)\u001b[49m\u001b[43m)\u001b[49m\n\u001b[32m   1968\u001b[39m \u001b[43m\u001b[49m\u001b[43m)\u001b[49m\n\u001b[32m   1970\u001b[39m \u001b[38;5;28;01mif\u001b[39;00m (X \u001b[38;5;129;01mis\u001b[39;00m Y \u001b[38;5;129;01mor\u001b[39;00m Y \u001b[38;5;129;01mis\u001b[39;00m \u001b[38;5;28;01mNone\u001b[39;00m) \u001b[38;5;129;01mand\u001b[39;00m func \u001b[38;5;129;01mis\u001b[39;00m euclidean_distances:\n\u001b[32m   1971\u001b[39m     \u001b[38;5;66;03m# zeroing diagonal for euclidean norm.\u001b[39;00m\n\u001b[32m   1972\u001b[39m     \u001b[38;5;66;03m# TODO: do it also for other norms.\u001b[39;00m\n\u001b[32m   1973\u001b[39m     np.fill_diagonal(ret, \u001b[32m0\u001b[39m)\n",
      "\u001b[36mFile \u001b[39m\u001b[32m~/miniconda/lib/python3.13/site-packages/sklearn/utils/parallel.py:82\u001b[39m, in \u001b[36mParallel.__call__\u001b[39m\u001b[34m(self, iterable)\u001b[39m\n\u001b[32m     73\u001b[39m warning_filters = warnings.filters\n\u001b[32m     74\u001b[39m iterable_with_config_and_warning_filters = (\n\u001b[32m     75\u001b[39m     (\n\u001b[32m     76\u001b[39m         _with_config_and_warning_filters(delayed_func, config, warning_filters),\n\u001b[32m   (...)\u001b[39m\u001b[32m     80\u001b[39m     \u001b[38;5;28;01mfor\u001b[39;00m delayed_func, args, kwargs \u001b[38;5;129;01min\u001b[39;00m iterable\n\u001b[32m     81\u001b[39m )\n\u001b[32m---> \u001b[39m\u001b[32m82\u001b[39m \u001b[38;5;28;01mreturn\u001b[39;00m \u001b[38;5;28;43msuper\u001b[39;49m\u001b[43m(\u001b[49m\u001b[43m)\u001b[49m\u001b[43m.\u001b[49m\u001b[34;43m__call__\u001b[39;49m\u001b[43m(\u001b[49m\u001b[43miterable_with_config_and_warning_filters\u001b[49m\u001b[43m)\u001b[49m\n",
      "\u001b[36mFile \u001b[39m\u001b[32m~/miniconda/lib/python3.13/site-packages/joblib/parallel.py:2072\u001b[39m, in \u001b[36mParallel.__call__\u001b[39m\u001b[34m(self, iterable)\u001b[39m\n\u001b[32m   2066\u001b[39m \u001b[38;5;66;03m# The first item from the output is blank, but it makes the interpreter\u001b[39;00m\n\u001b[32m   2067\u001b[39m \u001b[38;5;66;03m# progress until it enters the Try/Except block of the generator and\u001b[39;00m\n\u001b[32m   2068\u001b[39m \u001b[38;5;66;03m# reaches the first `yield` statement. This starts the asynchronous\u001b[39;00m\n\u001b[32m   2069\u001b[39m \u001b[38;5;66;03m# dispatch of the tasks to the workers.\u001b[39;00m\n\u001b[32m   2070\u001b[39m \u001b[38;5;28mnext\u001b[39m(output)\n\u001b[32m-> \u001b[39m\u001b[32m2072\u001b[39m \u001b[38;5;28;01mreturn\u001b[39;00m output \u001b[38;5;28;01mif\u001b[39;00m \u001b[38;5;28mself\u001b[39m.return_generator \u001b[38;5;28;01melse\u001b[39;00m \u001b[38;5;28;43mlist\u001b[39;49m\u001b[43m(\u001b[49m\u001b[43moutput\u001b[49m\u001b[43m)\u001b[49m\n",
      "\u001b[36mFile \u001b[39m\u001b[32m~/miniconda/lib/python3.13/site-packages/joblib/parallel.py:1682\u001b[39m, in \u001b[36mParallel._get_outputs\u001b[39m\u001b[34m(self, iterator, pre_dispatch)\u001b[39m\n\u001b[32m   1679\u001b[39m     \u001b[38;5;28;01myield\u001b[39;00m\n\u001b[32m   1681\u001b[39m     \u001b[38;5;28;01mwith\u001b[39;00m \u001b[38;5;28mself\u001b[39m._backend.retrieval_context():\n\u001b[32m-> \u001b[39m\u001b[32m1682\u001b[39m         \u001b[38;5;28;01myield from\u001b[39;00m \u001b[38;5;28mself\u001b[39m._retrieve()\n\u001b[32m   1684\u001b[39m \u001b[38;5;28;01mexcept\u001b[39;00m \u001b[38;5;167;01mGeneratorExit\u001b[39;00m:\n\u001b[32m   1685\u001b[39m     \u001b[38;5;66;03m# The generator has been garbage collected before being fully\u001b[39;00m\n\u001b[32m   1686\u001b[39m     \u001b[38;5;66;03m# consumed. This aborts the remaining tasks if possible and warn\u001b[39;00m\n\u001b[32m   1687\u001b[39m     \u001b[38;5;66;03m# the user if necessary.\u001b[39;00m\n\u001b[32m   1688\u001b[39m     \u001b[38;5;28mself\u001b[39m._exception = \u001b[38;5;28;01mTrue\u001b[39;00m\n",
      "\u001b[36mFile \u001b[39m\u001b[32m~/miniconda/lib/python3.13/site-packages/joblib/parallel.py:1800\u001b[39m, in \u001b[36mParallel._retrieve\u001b[39m\u001b[34m(self)\u001b[39m\n\u001b[32m   1789\u001b[39m \u001b[38;5;28;01mif\u001b[39;00m \u001b[38;5;28mself\u001b[39m.return_ordered:\n\u001b[32m   1790\u001b[39m     \u001b[38;5;66;03m# Case ordered: wait for completion (or error) of the next job\u001b[39;00m\n\u001b[32m   1791\u001b[39m     \u001b[38;5;66;03m# that have been dispatched and not retrieved yet. If no job\u001b[39;00m\n\u001b[32m   (...)\u001b[39m\u001b[32m   1795\u001b[39m     \u001b[38;5;66;03m# control only have to be done on the amount of time the next\u001b[39;00m\n\u001b[32m   1796\u001b[39m     \u001b[38;5;66;03m# dispatched job is pending.\u001b[39;00m\n\u001b[32m   1797\u001b[39m     \u001b[38;5;28;01mif\u001b[39;00m (nb_jobs == \u001b[32m0\u001b[39m) \u001b[38;5;129;01mor\u001b[39;00m (\n\u001b[32m   1798\u001b[39m         \u001b[38;5;28mself\u001b[39m._jobs[\u001b[32m0\u001b[39m].get_status(timeout=\u001b[38;5;28mself\u001b[39m.timeout) == TASK_PENDING\n\u001b[32m   1799\u001b[39m     ):\n\u001b[32m-> \u001b[39m\u001b[32m1800\u001b[39m         \u001b[43mtime\u001b[49m\u001b[43m.\u001b[49m\u001b[43msleep\u001b[49m\u001b[43m(\u001b[49m\u001b[32;43m0.01\u001b[39;49m\u001b[43m)\u001b[49m\n\u001b[32m   1801\u001b[39m         \u001b[38;5;28;01mcontinue\u001b[39;00m\n\u001b[32m   1803\u001b[39m \u001b[38;5;28;01melif\u001b[39;00m nb_jobs == \u001b[32m0\u001b[39m:\n\u001b[32m   1804\u001b[39m     \u001b[38;5;66;03m# Case unordered: jobs are added to the list of jobs to\u001b[39;00m\n\u001b[32m   1805\u001b[39m     \u001b[38;5;66;03m# retrieve `self._jobs` only once completed or in error, which\u001b[39;00m\n\u001b[32m   (...)\u001b[39m\u001b[32m   1811\u001b[39m     \u001b[38;5;66;03m# timeouts before any other dispatched job has completed and\u001b[39;00m\n\u001b[32m   1812\u001b[39m     \u001b[38;5;66;03m# been added to `self._jobs` to be retrieved.\u001b[39;00m\n",
      "\u001b[31mKeyboardInterrupt\u001b[39m: "
     ]
    }
   ],
   "source": [
    "# # Calculer distance de Jaccard (optimisée) \n",
    "\n",
    "# from sklearn.metrics import pairwise_distances\n",
    "# from collections import Counter\n",
    "# import numpy as np\n",
    "\n",
    "# # Sélectionner les ingrédients les plus fréquents \n",
    "# min_occurrences = 100   # à ajuster selon la taille mémoire disponible\n",
    "# ingredient_counts = Counter([ing for lst in df['ingredients_y'] for ing in lst])\n",
    "\n",
    "# selected_ingredients = {ing for ing, c in ingredient_counts.items() if c >= min_occurrences}\n",
    "# print(f\"  Ingrédients sélectionnés (>= {min_occurrences} recettes) : {len(selected_ingredients)}\")\n",
    "\n",
    "# # Filtrer les recettes pour ne garder que ces ingrédients\n",
    "# df['ingredients_filtered'] = df['ingredients_y'].apply(lambda lst: [i for i in lst if i in selected_ingredients])\n",
    "\n",
    "# # Reconstruire la matrice binaire (recette × ingrédient)\n",
    "# from sklearn.feature_extraction.text import CountVectorizer\n",
    "\n",
    "# corpus = [\" \".join(ings) for ings in df['ingredients_filtered']]\n",
    "# vectorizer = CountVectorizer(binary=True)\n",
    "# X = vectorizer.fit_transform(corpus)\n",
    "\n",
    "# print(f\"  Nouvelle matrice X : {X.shape} (recettes × ingrédients fréquents)\")\n",
    "\n",
    "# # Calculer distances Jaccard (en espace ingrédients) \n",
    "# # NB : Transposer la matrice pour comparer les ingrédients entre eux\n",
    "# print(\"  Calcul de la matrice de distances Jaccard...\")\n",
    "\n",
    "# # Utilisation directe sur sparse matrix (plus sûr)\n",
    "# X_ingredients = X.T  # shape: (n_ingredients, n_recettes)\n",
    "\n",
    "# # Convertir en dense car Jaccard ne supporte pas sparse ici\n",
    "# distance_matrix = pairwise_distances(X_ingredients.toarray(), metric='jaccard', n_jobs=-1)\n",
    "\n",
    "# print(f\"  Matrice de distances : {distance_matrix.shape}\")\n",
    "# print(f\"  Min distance : {distance_matrix.min():.4f}\")\n",
    "# print(f\"  Max distance : {distance_matrix.max():.4f}\")\n",
    "# print(f\"  Symétrique : {np.allclose(distance_matrix, distance_matrix.T)}\")\n",
    "\n",
    "# # Vérifications\n",
    "# assert distance_matrix.min() >= 0, \"Distances négatives!\"\n",
    "# assert distance_matrix.max() <= 1, \"Distances > 1!\"\n",
    "# assert np.allclose(np.diag(distance_matrix), 0), \"Diagonale non nulle!\"\n",
    "\n",
    "# print(\" Matrice de distances Jaccard valide et calculée avec succès !\")\n"
   ]
  },
  {
   "cell_type": "code",
   "execution_count": 15,
   "id": "ef454883",
   "metadata": {},
   "outputs": [
    {
     "data": {
      "image/png": "[encoded data removed]",
      "text/plain": [
       "<Figure size 1000x500 with 1 Axes>"
      ]
     },
     "metadata": {},
     "output_type": "display_data"
    },
    {
     "name": "stdout",
     "output_type": "stream",
     "text": [
      "\n",
      " Suggestions eps :\n",
      "  90e percentile : 0.971\n",
      "  95e percentile : 0.975\n"
     ]
    }
   ],
   "source": [
    "# Choisir eps via k-distance plot \n",
    "from sklearn.neighbors import NearestNeighbors\n",
    "\n",
    "k = 5  # min_samples\n",
    "nbrs = NearestNeighbors(n_neighbors=k+1, metric='precomputed').fit(distance_matrix)\n",
    "distances, indices = nbrs.kneighbors(distance_matrix)\n",
    "kdist = np.sort(distances[:, k])  # k-ième voisin (exclut soi-même)\n",
    "\n",
    "# Plot\n",
    "import matplotlib.pyplot as plt\n",
    "plt.figure(figsize=(10, 5))\n",
    "plt.plot(kdist, linewidth=1)\n",
    "plt.xlabel('Ingrédients (triés par k-distance)')\n",
    "plt.ylabel(f'{k}-distance')\n",
    "plt.title(f'K-distance plot pour déterminer eps (k={k})')\n",
    "plt.grid(True, alpha=0.3)\n",
    "\n",
    "# Suggérer eps au 90e percentile comme départ\n",
    "eps_90 = np.percentile(kdist, 90)\n",
    "eps_95 = np.percentile(kdist, 95)\n",
    "plt.axhline(y=eps_90, color='orange', linestyle='--', label=f'90e percentile ({eps_90:.3f})')\n",
    "plt.axhline(y=eps_95, color='red', linestyle='--', label=f'95e percentile ({eps_95:.3f})')\n",
    "plt.legend()\n",
    "plt.tight_layout()\n",
    "plt.savefig('kdistance_plot.png', dpi=150)\n",
    "plt.show()\n",
    "\n",
    "print(f\"\\n Suggestions eps :\")\n",
    "print(f\"  90e percentile : {eps_90:.3f}\")\n",
    "print(f\"  95e percentile : {eps_95:.3f}\")"
   ]
  },
  {
   "cell_type": "code",
   "execution_count": 21,
   "id": "edad7692",
   "metadata": {},
   "outputs": [
    {
     "name": "stdout",
     "output_type": "stream",
     "text": [
      "eps=0.800 → clusters=17, noise=603\n",
      "eps=0.850 → clusters=7, noise=441\n",
      "eps=0.900 → clusters=4, noise=221\n",
      "eps=0.930 → clusters=1, noise=115\n",
      "eps=0.950 → clusters=1, noise=49\n"
     ]
    }
   ],
   "source": [
    "for eps in [0.8, 0.85, 0.9, 0.93, 0.95]:\n",
    "    db = DBSCAN(eps=eps, min_samples=5, metric='precomputed').fit(distance_matrix)\n",
    "    n_clusters = len(set(db.labels_)) - (1 if -1 in db.labels_ else 0)\n",
    "    noise = np.sum(db.labels_ == -1)\n",
    "    print(f\"eps={eps:.3f} → clusters={n_clusters}, noise={noise}\")\n",
    "\n",
    "\n"
   ]
  },
  {
   "cell_type": "code",
   "execution_count": 23,
   "id": "38b9c433",
   "metadata": {},
   "outputs": [
    {
     "name": "stdout",
     "output_type": "stream",
     "text": [
      "Clusters found: 17\n",
      "\n",
      "Cluster 9 (7 ingrédients): 25, fat, free, greek, nonfat, plain, yogurt ...\n",
      "\n",
      "Cluster 0 (313 ingrédients): 26, 27, 2c, active, all, allspice, almond, and, angel, apples ...\n",
      "\n",
      "Cluster 1 (13 ingrédients): 26m, 27s, brand, candy, coloring, devil, flank, food, frank, hellmann ...\n",
      "\n",
      "Noise (603 ingrédients isolés):\n",
      "\n",
      "Cluster 2 (8 ingrédients): adobo, ancho, chile, chiles, chipotle, in, packed, poblano ...\n",
      "\n",
      "Cluster 10 (6 ingrédients): anchovy, catfish, fillets, fish, salmon, tilapia ...\n",
      "\n",
      "Cluster 8 (9 ingrédients): biscuits, crescent, dinner, hoagie, kaiser, pillsbury, refrigerated, roll, rolls ...\n",
      "\n",
      "Cluster 3 (5 ingrédients): bouillon, cube, cubes, granule, granules ...\n",
      "\n",
      "Cluster 4 (3 ingrédients): brewed, coffee, strong ...\n",
      "\n",
      "Cluster 7 (7 ingrédients): cacao, creme, de, fraiche, herbes, marshmallow, provence ...\n",
      "\n",
      "Cluster 13 (5 ingrédients): chops, loin, pork, shoulder, tenderloin ...\n",
      "\n",
      "Cluster 5 (5 ingrédients): cooking, flavored, nonstick, pam, spray ...\n",
      "\n",
      "Cluster 6 (5 ingrédients): corn, creamed, kernel, kernels, syrup ...\n",
      "\n",
      "Cluster 11 (6 ingrédients): dessert, gelatin, jell, jello, strawberry, unflavored ...\n",
      "\n",
      "Cluster 16 (4 ingrédients): eye, round, sirloin, steaks ...\n",
      "\n",
      "Cluster 14 (2 ingrédients): fennel, seed ...\n",
      "\n",
      "Cluster 15 (5 ingrédients): gum, potato, starch, tapioca, xanthan ...\n",
      "\n",
      "Cluster 12 (4 ingrédients): pieces, stems, toffee, walnut ...\n"
     ]
    }
   ],
   "source": [
    "from collections import defaultdict\n",
    "\n",
    "# Run DBSCAN with eps=0.85\n",
    "db = DBSCAN(eps=0.80, min_samples=5, metric='precomputed').fit(distance_matrix)\n",
    "labels = db.labels_\n",
    "n_clusters = len(set(labels)) - (1 if -1 in labels else 0)\n",
    "\n",
    "print(f\"Clusters found: {n_clusters}\")\n",
    "\n",
    "# Group ingredients by cluster\n",
    "clusters = defaultdict(list)\n",
    "for ing, label in zip(vectorizer.get_feature_names_out(), labels):\n",
    "    clusters[label].append(ing)\n",
    "\n",
    "# Display a few examples per cluster\n",
    "for k, v in clusters.items():\n",
    "    if k == -1:\n",
    "        print(f\"\\nNoise ({len(v)} ingrédients isolés):\")\n",
    "    else:\n",
    "        print(f\"\\nCluster {k} ({len(v)} ingrédients): {', '.join(v[:10])} ...\")\n"
   ]
  }
 ],
 "metadata": {
  "kernelspec": {
   "display_name": "base",
   "language": "python",
   "name": "python3"
  },
  "language_info": {
   "codemirror_mode": {
    "name": "ipython",
    "version": 3
   },
   "file_extension": ".py",
   "mimetype": "text/x-python",
   "name": "python",
   "nbconvert_exporter": "python",
   "pygments_lexer": "ipython3",
   "version": "3.13.5"
  }
 },
 "nbformat": 4,
 "nbformat_minor": 5
}
